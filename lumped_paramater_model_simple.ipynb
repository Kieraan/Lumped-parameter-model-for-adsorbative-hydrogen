{
 "cells": [
  {
   "cell_type": "code",
   "execution_count": 10,
   "metadata": {},
   "outputs": [],
   "source": [
    "# Integración numérica de sistemas de ecuaciones diferenciales ordinarias\n",
    "from scipy.integrate import solve_ivp\n",
    "\n",
    "# Minimización de funciones objetivos para ajuste de parámetros\n",
    "from scipy.optimize import least_squares\n",
    "\n",
    "# Ecuaciones no lineales\n",
    "from scipy.optimize import fsolve\n",
    "\n",
    "import numpy as np\n",
    "import matplotlib.pyplot as plt\n",
    "import copy"
   ]
  },
  {
   "attachments": {},
   "cell_type": "markdown",
   "metadata": {},
   "source": [
    "#### Definición sistema de ecuaciones diferenciales"
   ]
  },
  {
   "cell_type": "code",
   "execution_count": 11,
   "metadata": {},
   "outputs": [],
   "source": [
    "# Función que es entregada a solve_ivp para resolver el modelo, se le entregara un BOOLEANO\n",
    "# Para determinar si es carga o descarga\n",
    "\n",
    "# Ec. no lineal para encontrar el valor de la presión para un valor\n",
    "# de masa total conocida\n",
    "\n",
    "def p_eqn(p, n_0, R, T, alpha, beta, b, p_0, M_H2, m_s, volumen, epsilon, m_t):\n",
    "    # Calcular varias veces las variables\n",
    "    # Calcular moles de hidrógeno adsorbido f(T,p)\n",
    "    n_a = n_0 * np.exp(-((R*T)/(alpha+beta*T))**b * np.log(p_0/p)**b)\n",
    "    # Actualizar masa adsorbida\n",
    "    m_a = n_a*M_H2*m_s\n",
    "    # Actualizar masa gas\n",
    "    n_g = p*(volumen*epsilon)/(R*T)\n",
    "    m_g = n_g * M_H2\n",
    "    return m_t - (m_a + m_g)\n",
    "\n",
    "\n",
    "def adsorcion_hidrogeno(t, y, c_s, c_p, c_w, m_s, m_w, M_H2, R, alpha, beta, epsilon, volumen, area, p_0, n_0, b, m_dot, h, h_f, T_f, charge, DEBUG=False):\n",
    "    # if charge:\n",
    "        # print(f'Simulando proceso de carga\\n--------------------------')\n",
    "    \n",
    "    # Desempacar variables:\n",
    "    m_t = y[0]\n",
    "    T = y[1]\n",
    "    \n",
    "    # Calcular Variables dependientes de las variables independientes\n",
    "    p_old = 0.033*1e6 # Presión inicial (Pa) para test No. 13\n",
    "\n",
    "    p = fsolve(p_eqn, p_old, args = (n_0, R, T, alpha, beta, b, p_0, M_H2, m_s, volumen, epsilon, m_t))\n",
    "\n",
    "    # Calcular masa adsorbida\n",
    "    n_a = n_0 * np.exp(-((R*T)/(alpha+beta*T))**b * np.log(p_0/p)**b)\n",
    "    m_a = n_a*M_H2*m_s\n",
    "\n",
    "    # Actualizar numero de moles en la fase gas\n",
    "    m_g = m_t - m_a\n",
    "\n",
    "    # Calor esostérico\n",
    "    dH = alpha * (np.log(p_0/p))**(1/b)\n",
    "    \n",
    "    # print(f'm_a: {m_a}\\nm_g: {m_g}')\n",
    "\n",
    "    # ECUACIONES DIFERENCIALES\n",
    "    # Ecuación diferencial de masa total\n",
    "    if charge:\n",
    "        dm_dt = m_dot\n",
    "    elif not charge:\n",
    "        dm_dt = -m_dot\n",
    "        \n",
    "    # Ecuación diferencial de temperatura\n",
    "    if charge:\n",
    "        dT_dt = (m_dot*h + dm_dt*(dH/M_H2) - h_f*area*(T-T_f))/(m_s*c_s + m_a*c_p + m_g*c_p + m_w*c_w)\n",
    "    elif not charge:\n",
    "        dT_dt = (-m_dot*h + dm_dt*(dH/M_H2) - h_f*area*(T-T_f))/(m_s*c_s + m_a*c_p + m_g*c_p + m_w*c_w)\n",
    "    \n",
    "    # DEBUG prints\n",
    "    if DEBUG is True:\n",
    "        print(\"\\ndT_dt debugging \\n\")\n",
    "        print(\"dT_dt = %.3e K/s\" % dT_dt)\n",
    "        print(\"m_dot = %.3e kg/s\" % m_dot)\n",
    "        print(\"h = %.3e Jm^2-\" % h)\n",
    "        print(\"dH = %.3e J/kg \" % dH)\n",
    "        print(\"M_H2 = %.3e kg/mol\" % h)\n",
    "        print(\"h_f = %.3e Wm^-2K^-1\" % h_f)\n",
    "        print(\"area = %.3e m^2\" % area)\n",
    "        print(\"T = %.3e K\" % T)\n",
    "        print(\"T_f = %.3e K\" % T_f)        \n",
    "        print(\"dm_dt = %.3e kg/s\" % dm_dt)\n",
    "        # Calor isoestérico\n",
    "        print(\"\\nIsosteric heat debugging\\n\")\n",
    "        print(\"alpha = %.3e\" % alpha)\n",
    "        print(\"b= %.3e\" % b)\n",
    "        print(\"p_0 = %.3e Pa\" % p_0)\n",
    "        print(\"p = %.3e Pa\" % p)\n",
    "\n",
    "    # Empacar el vector del lado derecho en un vector 2x1\n",
    "    dy = np.array([dm_dt, dT_dt])\n",
    "    \n",
    "    return dy"
   ]
  },
  {
   "attachments": {},
   "cell_type": "markdown",
   "metadata": {},
   "source": [
    "#### Parametros, condiciones y solve_ivp"
   ]
  },
  {
   "cell_type": "code",
   "execution_count": 12,
   "metadata": {},
   "outputs": [
    {
     "name": "stdout",
     "output_type": "stream",
     "text": [
      "n_g = 1.727e-02 moles\n",
      "m_g = 3.481e-05 kg\n",
      "m_a = 2.004e-05 kg\n",
      "m_ti = 5.484e-05 kg\n",
      "---Condiciones iniciales---\n",
      "n_a0 = 0.010\n",
      "La presión incial es: 33000.0 Pa \n",
      "La temperatura incial es: 281.0 K \n",
      "La temperatura final es: 282.5\n",
      " K h_f es: 36\n",
      "---Fin CI---\n",
      "\n",
      "---Test case 13---\n"
     ]
    },
    {
     "name": "stderr",
     "output_type": "stream",
     "text": [
      "C:\\Users\\kiera\\AppData\\Local\\Temp\\ipykernel_17232\\188420667.py:78: VisibleDeprecationWarning: Creating an ndarray from ragged nested sequences (which is a list-or-tuple of lists-or-tuples-or ndarrays with different lengths or shapes) is deprecated. If you meant to do this, you must specify 'dtype=object' when creating the ndarray.\n",
      "  dy = np.array([dm_dt, dT_dt])\n"
     ]
    }
   ],
   "source": [
    "# PARAMETROS\n",
    "# Calores especificos\n",
    "c_s = 825 # Calor especifico del carbón activado (J kg-1 K-1)\n",
    "c_p = 10167 # Calor especifico del hidrogeno (J kg-1 K-1)\n",
    "c_w = 468 # Calor especifico paredes de acero (J kg-1 K-1)\n",
    "\n",
    "# K: Originalmente estaba dado en J, por eso el /1000\n",
    "# F: Sugerencia: ocupar unidades SI lo más posible\n",
    "\n",
    "# Masas\n",
    "m_s = 0.671 # masa carbón activado (kg)\n",
    "m_w = 3.714 # Masa paredes de acero (kg)\n",
    "M_H2 = 2.0159E-3 # Masa molar del hidregeno (kg mol-1)\n",
    "\n",
    "# Constantes \n",
    "R = 8.314 # J mol-1 K-1\n",
    "alpha = 3080 # Factor entalpico (J mol-1)\n",
    "beta = 18.9 # Factor entropico (J mol-1 K-1)\n",
    "epsilon_b = 0.49 \n",
    "b = 2\n",
    "\n",
    "# Dimensiones estanque\n",
    "V = 2.4946*1e-3 # Volumen de estanque (m^3)\n",
    "A_e = 0.1277 # Área superficial estanque m^2\n",
    "\n",
    "# Otros\n",
    "p_0 = 1470 * 1e6 # Presion de saturacion (Pa)\n",
    "n_0 = 71.6 # Cantidad limite de adsorcion (mol kg-1)\n",
    "\n",
    "\n",
    "# CONDICIONES INICIALES\n",
    "p_ci = np.array([0.033, 0.033, 0.033, 0.032, 0.049, 0.032])*1e6 #Pa\n",
    "T_ci = np.array([281, 282, 280.2, 301.5, 302, 302.4]) #K \n",
    "T_cf = np.array([282.5, 284.5, 282.2, 301.7, 302.5, 302.5]) #K\n",
    "h_cf = np.array([36, 36, 36, 36, 36, 36]) # W m^-2 K^-1\n",
    "\n",
    "# Seleccionar los valores del test deseado\n",
    "p_i = p_ci[0]\n",
    "T_i = T_ci[0]\n",
    "T_f = T_cf[0]\n",
    "h_f = h_cf[0]\n",
    "\n",
    "# Número de moles adsorbidos en t = 0\n",
    "n_a0 = n_0 * np.exp(- (R*T_i/(alpha + beta*T_i))**b * np.log(p_0/p_i)**b )\n",
    "# n_a0 = 1e-6\n",
    "\n",
    "# Masa total inicial\n",
    "# Numero inicial de moles en la fase gas a partir de las condiciones iniciales\n",
    "n_gi = p_i*(V*epsilon_b)/(R*T_i)\n",
    "m_gi = n_gi * M_H2\n",
    "print(\"n_g = %.3e moles\" % n_gi)\n",
    "# Masa inicial de hidrógeno en la fase gas\n",
    "print(\"m_g = %.3e kg\" % m_gi)\n",
    "# Masa inicial de hidrógeno adsorbido\n",
    "print(\"m_a = %.3e kg\" % (n_a0*M_H2))\n",
    "# Masa inicial total\n",
    "m_ti = (n_a0+n_gi)*M_H2\n",
    "# m_ti = 0\n",
    "print(\"m_ti = %.3e kg\" % m_ti)\n",
    "\n",
    "print(\"---Condiciones iniciales---\")\n",
    "print(\"n_a0 = %.3f\" % n_a0)\n",
    "print(f'La presión incial es: {p_i} Pa \\nLa temperatura incial es: {T_i} K \\nLa temperatura final es: {T_f}\\n K h_f es: {h_f}')\n",
    "print(\"---Fin CI---\\n\")\n",
    "\n",
    "# PARAMETROS EN CARGA/DESCARGA\n",
    "# Carga o descarga?\n",
    "charge = True\n",
    "\n",
    "# Por ahora solo se usara test No. 13\n",
    "t_0 =  0            # s\n",
    "t_f = 1042          # s\n",
    "t_range = np.linspace(t_0, t_f, 1000000)\n",
    "\n",
    "m_dot = 2.023e-5        # kg s-1\n",
    "\n",
    "# Aparentemente calor de \n",
    "h = 3986.8          # J/kg aparentemente mal en el paper\n",
    "\n",
    "# Tupla de parametros que se deben pasar a solve_ivp\n",
    "DEBUG = False\n",
    "args = (c_s, c_p, c_w, m_s, m_w, M_H2, R, alpha, beta, epsilon_b, V, A_e, p_0, n_0, b, m_dot, h, h_f, T_f, charge, DEBUG)\n",
    "\n",
    "# En ingeniería química, sobre todo cuando hay reacciones o cambio de fases, se generan sistemas ultraestables\n",
    "# (ultrastiff) no conviene utilizar métodos explícitos. \n",
    "print('---Test case 13---')\n",
    "sol = solve_ivp(adsorcion_hidrogeno, (t_0, t_f), [m_ti, T_i], args=args, t_eval= t_range, method = 'BDF')"
   ]
  },
  {
   "cell_type": "code",
   "execution_count": 13,
   "metadata": {},
   "outputs": [],
   "source": [
    "# Desempacar la sol.clear\n",
    "m_t = sol.y[0]\n",
    "T = sol.y[1]\n",
    "\n",
    "# Conseguir la cantidad de soluciones\n",
    "num = len(T)"
   ]
  },
  {
   "attachments": {},
   "cell_type": "markdown",
   "metadata": {},
   "source": [
    "### Graficar la solución"
   ]
  },
  {
   "attachments": {},
   "cell_type": "markdown",
   "metadata": {},
   "source": [
    "#### Temperatura"
   ]
  },
  {
   "cell_type": "code",
   "execution_count": 14,
   "metadata": {},
   "outputs": [
    {
     "data": {
      "text/plain": [
       "Text(0, 0.5, 'T [K]')"
      ]
     },
     "execution_count": 14,
     "metadata": {},
     "output_type": "execute_result"
    },
    {
     "data": {
      "image/png": "[encoded data removed]",
      "text/plain": [
       "<Figure size 432x288 with 1 Axes>"
      ]
     },
     "metadata": {
      "needs_background": "light"
     },
     "output_type": "display_data"
    }
   ],
   "source": [
    "# Temperatura\n",
    "plt.plot(sol.t, T)\n",
    "plt.xlabel('t [s]', size = 12)\n",
    "plt.ylabel('T [K]', size = 12)"
   ]
  },
  {
   "attachments": {},
   "cell_type": "markdown",
   "metadata": {},
   "source": [
    "#### Masa"
   ]
  },
  {
   "cell_type": "code",
   "execution_count": 15,
   "metadata": {},
   "outputs": [
    {
     "data": {
      "text/plain": [
       "Text(0, 0.5, 'm_t [kg]')"
      ]
     },
     "execution_count": 15,
     "metadata": {},
     "output_type": "execute_result"
    },
    {
     "data": {
      "image/png": "[encoded data removed]",
      "text/plain": [
       "<Figure size 432x288 with 1 Axes>"
      ]
     },
     "metadata": {
      "needs_background": "light"
     },
     "output_type": "display_data"
    }
   ],
   "source": [
    "# Masa\n",
    "plt.plot(sol.t, m_t)\n",
    "plt.xlabel('t [s]', size = 12)\n",
    "plt.ylabel('m_t [kg]', size = 12)"
   ]
  },
  {
   "attachments": {},
   "cell_type": "markdown",
   "metadata": {},
   "source": [
    "#### Presión "
   ]
  },
  {
   "cell_type": "code",
   "execution_count": 16,
   "metadata": {},
   "outputs": [
    {
     "name": "stdout",
     "output_type": "stream",
     "text": [
      "En el indice [0] la presión es: 36762.24207051624 Pa\n",
      "En el indice [100000] la presión es: 861327.1505255824 Pa\n",
      "En el indice [200000] la presión es: 1659952.3573308436 Pa\n",
      "En el indice [300000] la presión es: 2490159.110247347 Pa\n",
      "En el indice [400000] la presión es: 3352056.4675158598 Pa\n",
      "En el indice [500000] la presión es: 4242642.695565387 Pa\n",
      "En el indice [600000] la presión es: 5161005.958731382 Pa\n",
      "En el indice [700000] la presión es: 6103337.738591711 Pa\n",
      "En el indice [800000] la presión es: 7071059.450499564 Pa\n",
      "En el indice [900000] la presión es: 8060982.909180666 Pa\n"
     ]
    },
    {
     "data": {
      "text/plain": [
       "Text(0, 0.5, 'presión [MPa]')"
      ]
     },
     "execution_count": 16,
     "metadata": {},
     "output_type": "execute_result"
    },
    {
     "data": {
      "image/png": "[encoded data removed]",
      "text/plain": [
       "<Figure size 432x288 with 1 Axes>"
      ]
     },
     "metadata": {
      "needs_background": "light"
     },
     "output_type": "display_data"
    }
   ],
   "source": [
    "# Como calculamos P, m_a y m_g?\n",
    "p = []\n",
    "\n",
    "for i in range(len(T)):\n",
    "    # Se encuentra el valor de la presión mediante la función fsolve\n",
    "    p_inst = fsolve(p_eqn, p_i, args = (n_0, R, T[i], alpha, beta, b, p_0, M_H2, m_s, V, epsilon_b, m_t[i]))\n",
    "    # Se extrae el valor en el indice 0 porque p_inst es de la forma [float]\n",
    "    # Se divide en 1e6 para pasar de Pa a MPa\n",
    "    p_inst = p_inst[0]\n",
    "    \n",
    "    if i % 100000 == 0:\n",
    "        print(f'En el indice [{i}] la presión es: {p_inst} Pa')\n",
    "\n",
    "    p.append(p_inst)\n",
    "\n",
    "p = np.array(p)\n",
    "\n",
    "\n",
    "plt.plot(sol.t, p/1e6)\n",
    "plt.xlabel('t [s]', size = 12)\n",
    "plt.ylabel('presión [MPa]', size = 12)"
   ]
  },
  {
   "attachments": {},
   "cell_type": "markdown",
   "metadata": {},
   "source": [
    "#### Masa fase adsorbida y fase gaseosa"
   ]
  },
  {
   "cell_type": "code",
   "execution_count": 17,
   "metadata": {},
   "outputs": [
    {
     "data": {
      "text/plain": [
       "Text(0, 0.5, 'm_t [kg]')"
      ]
     },
     "execution_count": 17,
     "metadata": {},
     "output_type": "execute_result"
    },
    {
     "data": {
      "image/png": "[encoded data removed]",
      "text/plain": [
       "<Figure size 432x288 with 1 Axes>"
      ]
     },
     "metadata": {
      "needs_background": "light"
     },
     "output_type": "display_data"
    }
   ],
   "source": [
    "# Calcular m_a\n",
    "\n",
    "m_a = []\n",
    "\n",
    "n_a = n_0*np.exp(-((R*T)/(alpha+beta*T))**b * np.log(p_0/p)**b)\n",
    "m_a = n_a*M_H2*m_s\n",
    "m_a = np.array(m_a)\n",
    "m_g = m_t - m_a\n",
    "\n",
    "plt.plot(sol.t, m_t)\n",
    "plt.plot(sol.t, m_a)\n",
    "plt.plot(sol.t, m_g)\n",
    "plt.xlabel('t [s]', size = 12)\n",
    "plt.ylabel('m_t [kg]', size = 12)\n"
   ]
  },
  {
   "attachments": {},
   "cell_type": "markdown",
   "metadata": {},
   "source": [
    "### Test No. 15"
   ]
  },
  {
   "cell_type": "code",
   "execution_count": 20,
   "metadata": {},
   "outputs": [
    {
     "name": "stderr",
     "output_type": "stream",
     "text": [
      "C:\\Users\\kiera\\AppData\\Local\\Temp\\ipykernel_17232\\188420667.py:78: VisibleDeprecationWarning: Creating an ndarray from ragged nested sequences (which is a list-or-tuple of lists-or-tuples-or ndarrays with different lengths or shapes) is deprecated. If you meant to do this, you must specify 'dtype=object' when creating the ndarray.\n",
      "  dy = np.array([dm_dt, dT_dt])\n"
     ]
    }
   ],
   "source": [
    "# Seleccionar los valores del test deseado\n",
    "p_i = p_ci[1]\n",
    "T_i = T_ci[1]\n",
    "T_f = T_cf[1]\n",
    "h_f = h_cf[1]\n",
    "\n",
    "n_a0 = n_0 * np.exp(- (R*T_i/(alpha + beta*T_i))**b * np.log(p_0/p_i)**b )\n",
    "\n",
    "n_gi = p_i*(V*epsilon_b)/(R*T_i)\n",
    "m_gi = n_gi * M_H2\n",
    "\n",
    "# PARAMETROS EN CARGA/DESCARGA\n",
    "# Carga o descarga?\n",
    "charge = True\n",
    "\n",
    "# Por ahora solo se usara test No. 13\n",
    "t_0 =  0            # s\n",
    "t_f = 422           # s\n",
    "t_range = np.linspace(t_0, t_f, 1000000)\n",
    "\n",
    "m_dot = 4.362e-5        # kg s-1\n",
    "\n",
    "# Aparentemente calor de \n",
    "h = 4001.1          # J/kg aparentemente mal en el paper\n",
    "\n",
    "# Tupla de parametros que se deben pasar a solve_ivp\n",
    "DEBUG = False\n",
    "args = (c_s, c_p, c_w, m_s, m_w, M_H2, R, alpha, beta, epsilon_b, V, A_e, p_0, n_0, b, m_dot, h, h_f, T_f, charge, DEBUG)\n",
    "\n",
    "# En ingeniería química, sobre todo cuando hay reacciones o cambio de fases, se generan sistemas ultraestables\n",
    "# (ultrastiff) no conviene utilizar métodos explícitos. \n",
    "sol = solve_ivp(adsorcion_hidrogeno, (t_0, t_f), [m_ti, T_i], args=args, t_eval= t_range, method = 'BDF')"
   ]
  },
  {
   "cell_type": "code",
   "execution_count": 21,
   "metadata": {},
   "outputs": [],
   "source": [
    "# Desempacar la sol.clear\n",
    "m_t = sol.y[0]\n",
    "T = sol.y[1]\n",
    "\n",
    "# Conseguir la cantidad de soluciones\n",
    "num = len(T)"
   ]
  },
  {
   "cell_type": "code",
   "execution_count": 23,
   "metadata": {},
   "outputs": [
    {
     "name": "stdout",
     "output_type": "stream",
     "text": [
      "303.1958117315942\n"
     ]
    },
    {
     "data": {
      "image/png": "[encoded data removed]",
      "text/plain": [
       "<Figure size 432x288 with 1 Axes>"
      ]
     },
     "metadata": {
      "needs_background": "light"
     },
     "output_type": "display_data"
    }
   ],
   "source": [
    "# Temperatura\n",
    "plt.plot(sol.t, T)\n",
    "plt.xlabel('t [s]', size = 12)\n",
    "plt.ylabel('T [K]', size = 12)"
   ]
  },
  {
   "cell_type": "code",
   "execution_count": 24,
   "metadata": {},
   "outputs": [
    {
     "name": "stdout",
     "output_type": "stream",
     "text": [
      "En el indice [0] la presión es: 37045.90510331308 Pa\n",
      "En el indice [100000] la presión es: 767776.3587554839 Pa\n",
      "En el indice [200000] la presión es: 1468848.0475977364 Pa\n",
      "En el indice [300000] la presión es: 2198087.5390506033 Pa\n",
      "En el indice [400000] la presión es: 2958299.1061381306 Pa\n",
      "En el indice [500000] la presión es: 3748642.2618048023 Pa\n",
      "En el indice [600000] la presión es: 4566445.600874429 Pa\n",
      "En el indice [700000] la presión es: 5410215.779860435 Pa\n",
      "En el indice [800000] la presión es: 6278829.957598998 Pa\n",
      "En el indice [900000] la presión es: 7170790.743674641 Pa\n"
     ]
    },
    {
     "data": {
      "text/plain": [
       "Text(0, 0.5, 'presión [MPa]')"
      ]
     },
     "execution_count": 24,
     "metadata": {},
     "output_type": "execute_result"
    },
    {
     "data": {
      "image/png": "[encoded data removed]",
      "text/plain": [
       "<Figure size 432x288 with 1 Axes>"
      ]
     },
     "metadata": {
      "needs_background": "light"
     },
     "output_type": "display_data"
    }
   ],
   "source": [
    "# Como calculamos P, m_a y m_g?\n",
    "p = []\n",
    "\n",
    "for i in range(len(T)):\n",
    "    # Se encuentra el valor de la presión mediante la función fsolve\n",
    "    p_inst = fsolve(p_eqn, p_i, args = (n_0, R, T[i], alpha, beta, b, p_0, M_H2, m_s, V, epsilon_b, m_t[i]))\n",
    "    # Se extrae el valor en el indice 0 porque p_inst es de la forma [float]\n",
    "    # Se divide en 1e6 para pasar de Pa a MPa\n",
    "    p_inst = p_inst[0]\n",
    "    \n",
    "    if i % 100000 == 0:\n",
    "        print(f'En el indice [{i}] la presión es: {p_inst} Pa')\n",
    "\n",
    "    p.append(p_inst)\n",
    "\n",
    "p = np.array(p)\n",
    "\n",
    "\n",
    "plt.plot(sol.t, p/1e6)\n",
    "plt.xlabel('t [s]', size = 12)\n",
    "plt.ylabel('presión [MPa]', size = 12)"
   ]
  },
  {
   "cell_type": "code",
   "execution_count": 25,
   "metadata": {},
   "outputs": [
    {
     "data": {
      "text/plain": [
       "Text(0, 0.5, 'm_t [kg]')"
      ]
     },
     "execution_count": 25,
     "metadata": {},
     "output_type": "execute_result"
    },
    {
     "data": {
      "image/png": "[encoded data removed]",
      "text/plain": [
       "<Figure size 432x288 with 1 Axes>"
      ]
     },
     "metadata": {
      "needs_background": "light"
     },
     "output_type": "display_data"
    }
   ],
   "source": [
    "m_a = []\n",
    "\n",
    "n_a = n_0*np.exp(-((R*T)/(alpha+beta*T))**b * np.log(p_0/p)**b)\n",
    "m_a = n_a*M_H2*m_s\n",
    "m_a = np.array(m_a)\n",
    "m_g = m_t - m_a\n",
    "\n",
    "plt.plot(sol.t, m_t)\n",
    "plt.plot(sol.t, m_a)\n",
    "plt.plot(sol.t, m_g)\n",
    "plt.xlabel('t [s]', size = 12)\n",
    "plt.ylabel('m_t [kg]', size = 12)"
   ]
  }
 ],
 "metadata": {
  "kernelspec": {
   "display_name": "Python 3",
   "language": "python",
   "name": "python3"
  },
  "language_info": {
   "codemirror_mode": {
    "name": "ipython",
    "version": 3
   },
   "file_extension": ".py",
   "mimetype": "text/x-python",
   "name": "python",
   "nbconvert_exporter": "python",
   "pygments_lexer": "ipython3",
   "version": "3.10.6"
  },
  "orig_nbformat": 4,
  "vscode": {
   "interpreter": {
    "hash": "620eb4ed2007402b8563cffe8a138559637e3ee9804a716022abebb97e63d62a"
   }
  }
 },
 "nbformat": 4,
 "nbformat_minor": 2
}

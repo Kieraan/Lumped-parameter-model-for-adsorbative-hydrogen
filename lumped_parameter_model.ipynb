{
 "cells": [
  {
   "cell_type": "markdown",
   "metadata": {},
   "source": [
    "# Lumped Parameter Model \n",
    "\n",
    "Adaptado de Xiao et al (2013) Lumped parameter model for charge–discharge cycle of adsorptive\n",
    "hydrogen storage system\n",
    "\n",
    "Autor: Kieran Conradie\n",
    "\n",
    "\n",
    "Las ecuaciones que gobiernan el sistema propuesto en el artículo son: "
   ]
  },
  {
   "cell_type": "markdown",
   "metadata": {},
   "source": [
    "Masa:\n",
    "$$ \\frac{dm_t}{dt}=\\dot{m_i}-\\dot{m_e}$$\n",
    "Las cual puede ser separada en dos casos:\n",
    "    \n",
    "1. Carga: $\\frac{dm_t}{dt}=\\dot{m_i}$\n",
    "2. Descarga: $\\frac{dm_t}{dt}=-\\dot{m_e}$ \n",
    "\n",
    "Dentro de las ecuaciones de masa existen otras que ayudan a especificar el problema: \n",
    "$$m_t = m_g + m_a$$\n",
    "$$m_a = n_a M_{H_2} m_s$$\n",
    "\n",
    "Donde los moles de hidrógeno adsorbido están dados por:\n",
    "$$n_a = n_0 \\exp\\left[-\\left(\\frac{RT}{\\alpha + \\beta T}\\right)^b \\ln{\\left(\\frac{p_0}{p}\\right)}^b\\right]$$\n",
    "y la presión esta dada por:\n",
    "$$p=\\frac{(m-m_a)ZRT}{M_{H_2}V\\epsilon_b}$$"
   ]
  },
  {
   "cell_type": "markdown",
   "metadata": {},
   "source": [
    "Temperatura:\n",
    "$$\\frac{dT}{dt}=\\frac{\\dot{m_i}h_i - \\dot{m_e}h_e + \\frac{dm_a}{dt}\\frac{\\Delta{H}}{M_{H_2}}-h_fA_e(T-T_f)}{m_sc_s+m_ac_{va}+m_gc_{vg}+m_wc_w}$$\n",
    "\n",
    "La derivación de $\\frac{\\partial n_a}{\\partial t}$ se realizó mediante wolfram mathematica"
   ]
  },
  {
   "cell_type": "code",
   "execution_count": null,
   "metadata": {},
   "outputs": [],
   "source": [
    "# Integración numérica de sistemas de ecuaciones diferenciales ordinarias\n",
    "from scipy.integrate import solve_ivp\n",
    "\n",
    "# Minimización de funciones objetivos para ajuste de parámetros\n",
    "from scipy.optimize import least_squares\n",
    "import numpy as np\n",
    "import matplotlib.pyplot as plt\n",
    "import copy"
   ]
  },
  {
   "cell_type": "markdown",
   "metadata": {},
   "source": [
    "### Definición de la función con el sistema de ecuaciones diferenciales"
   ]
  },
  {
   "cell_type": "code",
   "execution_count": null,
   "metadata": {},
   "outputs": [],
   "source": [
    "# Por el momento la función solo trabajara para el proceso de carga, después se le podria dar un parametro mas a la función \n",
    "# que use un kwarg del tipo proceso = carga/descarga y en base a eso realizar cálculos\n",
    "def adsorcion_hidrogeno(t, y, c_s, c_p, c_w, m_s, m_w, M_H2, R, alpha, beta, epsilon, volumen, area, p_0, n_0, b, m_dot, h, h_f, T_f):\n",
    "    \n",
    "    # Desempacar variables\n",
    "    n_a = y[0] # Isoterma de adsorcion \n",
    "    T = y[1] # Temperatura \n",
    "    p = y[2] # Presión\n",
    "    \n",
    "    \n",
    "    # Inicializar variables como las masas (m_t, m_a, m_g) y la presión (Valor dado por las condiciones iniciales)\n",
    "    \n",
    "    # La masa total se puede calcular directamente si se conoce m_dot(t)\n",
    "    m_t = m_dot * t\n",
    "\n",
    "    # Buena practica debugging, graficar variables intermedias\n",
    "    print(f'La masa total del sistema es {m_t}')\n",
    "\n",
    "    # n_a = 0 # Al empezar vacio la masa adsorbida también debe ser 0, quizas se pueda usar para un tiempo \"Justo\" después de t = 0 s\n",
    "    print(\"n_a: \", n_a)\n",
    "    m_a = M_H2*m_s*n_a\n",
    "    \n",
    "    # masa libre de hidrógeno\n",
    "    m_g = m_t - m_a # Relación dada en el artículo\n",
    "\n",
    "    \n",
    "    # Calcular cantidades dependientes de las variables independientes\n",
    "    # n_a = n_0 * np.exp(-((R*T)/(alpha + beta*T))**b * np.log(p_0/p)**b)\n",
    "    dH = alpha * (np.log(p_0/p))**(1/b)\n",
    "    \n",
    "    # Como todas las ecuaciones dependen una de la otra se declara un valor para dn_dt y dp_dt inicial\n",
    "    # Se elije resolver primero para dT_dt ya que solo depende de dn_dt y no de dp\n",
    "    \n",
    "    dp_dt = 0#1e-3 # Se necesita para calcular dn_dt\n",
    "    dn_dt = 0#1e-4 # Se necesita para calcular dT_dt\n",
    "    \n",
    "    \n",
    "    # Se usaron los siguientes cambios de variable para simplificar la escritura del script:\n",
    "    theta = alpha + beta*T\n",
    "    xi = np.log(p_0/p)\n",
    "    zeta = R*T\n",
    "    \n",
    "    \n",
    "    for i in range(10):\n",
    "        # Por el momento asumir que c_v = c_p para el hidrogeo (Solo por flojera, después se debe usar una correlación)\n",
    "        dT_dt = (m_dot*h + M_H2*m_s*dn_dt - h_f*area*(T-T_f))/(m_s*c_s + m_a*c_p + m_g*c_p + m_w*c_w)\n",
    "\n",
    "        # Ecuación diferencial para la presión\n",
    "        dp_dt = R/(M_H2*epsilon*volumen) * (M_H2*m_s*dn_dt + dT_dt) \n",
    "\n",
    "        # Ecuación diferencial para la isoterma\n",
    "        dn_dt = (m_t*n_a*(((R*T)/(alpha+beta*T))*np.log(p_0/p))**b * \n",
    "             ((1/np.log(p_0/p))*(1/p)*dp_dt - (alpha/(alpha+beta*T))*(1/T)*dT_dt))\n",
    "    \n",
    "    tol = 10e-6 # Tolerancia para encontrar la mejor aproximación para las funciones\n",
    "    \n",
    "    # Esto estaba en cero pero se debe inicializar mayor que uno, de otra manera\n",
    "    # nunca entra al loop\n",
    "    dif = 10 \n",
    "\n",
    "    # Número de loops realizados (Para debugear)\n",
    "    n = 0\n",
    "\n",
    "    while dif > tol :\n",
    "        \n",
    "        # Almacenar los valores de la iteración anterior\n",
    "        dT_dt_old = copy.deepcopy(dT_dt) \n",
    "        dp_dt_old = copy.deepcopy(dp_dt)\n",
    "        dn_dt_old = copy.deepcopy(dn_dt) # En esta linea decía dpdt\n",
    "    \n",
    "        # Encontrar los nuevos valores de las derivadas\n",
    "        # F:H estaba con H mayúscula\n",
    "        dT_dt = (m_dot*h + M_H2*m_s*dn_dt - h_f*area*(T-T_f))/(m_s*c_s + m_a*c_p + m_g*c_p + m_w*c_w)\n",
    "        dp_dt = R/(M_H2*epsilon*volumen) * (M_H2*m_s*dn_dt + dT_dt) \n",
    "        dn_dt = dn_dt = (m_t*n_a*(((R*T)/(alpha+beta*T))*np.log(p_0/p))**b * \n",
    "             ((1/np.log(p_0/p))*(1/p)*dp_dt - (alpha/(alpha+beta*T))*(1/T)*dT_dt))\n",
    "        dif = np.abs(dT_dt - dT_dt_old) + np.abs(dp_dt - dp_dt_old) + np.abs(dn_dt - dn_dt_old)\n",
    "        n = n + 1\n",
    "        # print(f'Iteración: {n}, la diferencia actual es: %.3e ' % dif)\n",
    "    \n",
    "    # Empacar el vector del lado derecho en un vector 2x1\n",
    "    dy = np.array([dn_dt, dT_dt, dp_dt])\n",
    "    \n",
    "    return dy"
   ]
  },
  {
   "cell_type": "markdown",
   "metadata": {},
   "source": [
    "### Parametros y condiciones"
   ]
  },
  {
   "cell_type": "code",
   "execution_count": null,
   "metadata": {},
   "outputs": [
    {
     "name": "stdout",
     "output_type": "stream",
     "text": [
      "---Condiciones iniciales---\n",
      "n_a0 = 0.000\n",
      "La presión incial es: 33000.0\n",
      "La temperatura incial es: 281.0\n",
      "La temperatura final es: 282.5\n",
      "h_f es: 36\n",
      "---Fin CI---\n",
      "\n",
      "La masa total del sistema es 0.0\n",
      "n_a:  1e-06\n",
      "La masa total del sistema es nan\n",
      "n_a:  nan\n",
      "La masa total del sistema es 0.0\n",
      "n_a:  1e-06\n",
      "La masa total del sistema es 0.0\n",
      "n_a:  9.999999850988388e-07\n",
      "La masa total del sistema es 0.0\n",
      "n_a:  1e-06\n",
      "La masa total del sistema es 0.0\n",
      "n_a:  1e-06\n"
     ]
    },
    {
     "name": "stderr",
     "output_type": "stream",
     "text": [
      "C:\\Users\\kiera\\AppData\\Local\\Temp\\ipykernel_8920\\2295777961.py:74: RuntimeWarning: overflow encountered in double_scalars\n",
      "  dn_dt = b * np.exp(-(zeta*xi)/(theta))**b * n_0*zeta*((zeta*xi)/theta)**(-1+b) * dp_dt - b * np.exp(-(zeta*xi)/(theta))**b * n_0*zeta*((zeta*xi)/theta)**(-1+b) * ((zeta*beta*xi)/(theta**2) + (R*xi)/(theta)) * dT_dt\n",
      "C:\\Users\\kiera\\AppData\\Local\\Temp\\ipykernel_8920\\2295777961.py:74: RuntimeWarning: invalid value encountered in double_scalars\n",
      "  dn_dt = b * np.exp(-(zeta*xi)/(theta))**b * n_0*zeta*((zeta*xi)/theta)**(-1+b) * dp_dt - b * np.exp(-(zeta*xi)/(theta))**b * n_0*zeta*((zeta*xi)/theta)**(-1+b) * ((zeta*beta*xi)/(theta**2) + (R*xi)/(theta)) * dT_dt\n",
      "C:\\Users\\kiera\\AppData\\Local\\Programs\\Python\\Python310\\lib\\site-packages\\scipy\\integrate\\_ivp\\common.py:329: RuntimeWarning: invalid value encountered in subtract\n",
      "  diff = f_new - f[:, None]\n"
     ]
    },
    {
     "ename": "ValueError",
     "evalue": "array must not contain infs or NaNs",
     "output_type": "error",
     "traceback": [
      "\u001b[1;31m---------------------------------------------------------------------------\u001b[0m",
      "\u001b[1;31mValueError\u001b[0m                                Traceback (most recent call last)",
      "Input \u001b[1;32mIn [3]\u001b[0m, in \u001b[0;36m<cell line: 69>\u001b[1;34m()\u001b[0m\n\u001b[0;32m     65\u001b[0m args \u001b[38;5;241m=\u001b[39m (c_s, c_p, c_w, m_s, m_w, M_H2, R, alpha, beta, epsilon_b, V, A_e, p_0, n_0, b, m_dot, h, h_f, T_f)\n\u001b[0;32m     67\u001b[0m \u001b[38;5;66;03m# En ingeniería química, sobre todo cuando hay reacciones o cambio de fases, se generan sistemas ultraestables\u001b[39;00m\n\u001b[0;32m     68\u001b[0m \u001b[38;5;66;03m# (ultrastiff) no conviene utilizar métodos explícitos. \u001b[39;00m\n\u001b[1;32m---> 69\u001b[0m sol \u001b[38;5;241m=\u001b[39m \u001b[43msolve_ivp\u001b[49m\u001b[43m(\u001b[49m\u001b[43madsorcion_hidrogeno\u001b[49m\u001b[43m,\u001b[49m\u001b[43m \u001b[49m\u001b[43m(\u001b[49m\u001b[43mt_0\u001b[49m\u001b[43m,\u001b[49m\u001b[43m \u001b[49m\u001b[43mt_f\u001b[49m\u001b[43m)\u001b[49m\u001b[43m,\u001b[49m\u001b[43m \u001b[49m\u001b[43m[\u001b[49m\u001b[43mn_a0\u001b[49m\u001b[43m,\u001b[49m\u001b[43m \u001b[49m\u001b[43mT_i\u001b[49m\u001b[43m,\u001b[49m\u001b[43m \u001b[49m\u001b[43mp_i\u001b[49m\u001b[43m]\u001b[49m\u001b[43m,\u001b[49m\u001b[43m \u001b[49m\u001b[43margs\u001b[49m\u001b[38;5;241;43m=\u001b[39;49m\u001b[43margs\u001b[49m\u001b[43m,\u001b[49m\u001b[43m \u001b[49m\u001b[43mt_eval\u001b[49m\u001b[38;5;241;43m=\u001b[39;49m\u001b[43m \u001b[49m\u001b[43mt_range\u001b[49m\u001b[43m,\u001b[49m\u001b[43m \u001b[49m\u001b[43mmethod\u001b[49m\u001b[43m \u001b[49m\u001b[38;5;241;43m=\u001b[39;49m\u001b[43m \u001b[49m\u001b[38;5;124;43m'\u001b[39;49m\u001b[38;5;124;43mBDF\u001b[39;49m\u001b[38;5;124;43m'\u001b[39;49m\u001b[43m)\u001b[49m\n",
      "File \u001b[1;32m~\\AppData\\Local\\Programs\\Python\\Python310\\lib\\site-packages\\scipy\\integrate\\_ivp\\ivp.py:589\u001b[0m, in \u001b[0;36msolve_ivp\u001b[1;34m(fun, t_span, y0, method, t_eval, dense_output, events, vectorized, args, **options)\u001b[0m\n\u001b[0;32m    587\u001b[0m status \u001b[38;5;241m=\u001b[39m \u001b[38;5;28;01mNone\u001b[39;00m\n\u001b[0;32m    588\u001b[0m \u001b[38;5;28;01mwhile\u001b[39;00m status \u001b[38;5;129;01mis\u001b[39;00m \u001b[38;5;28;01mNone\u001b[39;00m:\n\u001b[1;32m--> 589\u001b[0m     message \u001b[38;5;241m=\u001b[39m \u001b[43msolver\u001b[49m\u001b[38;5;241;43m.\u001b[39;49m\u001b[43mstep\u001b[49m\u001b[43m(\u001b[49m\u001b[43m)\u001b[49m\n\u001b[0;32m    591\u001b[0m     \u001b[38;5;28;01mif\u001b[39;00m solver\u001b[38;5;241m.\u001b[39mstatus \u001b[38;5;241m==\u001b[39m \u001b[38;5;124m'\u001b[39m\u001b[38;5;124mfinished\u001b[39m\u001b[38;5;124m'\u001b[39m:\n\u001b[0;32m    592\u001b[0m         status \u001b[38;5;241m=\u001b[39m \u001b[38;5;241m0\u001b[39m\n",
      "File \u001b[1;32m~\\AppData\\Local\\Programs\\Python\\Python310\\lib\\site-packages\\scipy\\integrate\\_ivp\\base.py:181\u001b[0m, in \u001b[0;36mOdeSolver.step\u001b[1;34m(self)\u001b[0m\n\u001b[0;32m    179\u001b[0m \u001b[38;5;28;01melse\u001b[39;00m:\n\u001b[0;32m    180\u001b[0m     t \u001b[38;5;241m=\u001b[39m \u001b[38;5;28mself\u001b[39m\u001b[38;5;241m.\u001b[39mt\n\u001b[1;32m--> 181\u001b[0m     success, message \u001b[38;5;241m=\u001b[39m \u001b[38;5;28;43mself\u001b[39;49m\u001b[38;5;241;43m.\u001b[39;49m\u001b[43m_step_impl\u001b[49m\u001b[43m(\u001b[49m\u001b[43m)\u001b[49m\n\u001b[0;32m    183\u001b[0m     \u001b[38;5;28;01mif\u001b[39;00m \u001b[38;5;129;01mnot\u001b[39;00m success:\n\u001b[0;32m    184\u001b[0m         \u001b[38;5;28mself\u001b[39m\u001b[38;5;241m.\u001b[39mstatus \u001b[38;5;241m=\u001b[39m \u001b[38;5;124m'\u001b[39m\u001b[38;5;124mfailed\u001b[39m\u001b[38;5;124m'\u001b[39m\n",
      "File \u001b[1;32m~\\AppData\\Local\\Programs\\Python\\Python310\\lib\\site-packages\\scipy\\integrate\\_ivp\\bdf.py:355\u001b[0m, in \u001b[0;36mBDF._step_impl\u001b[1;34m(self)\u001b[0m\n\u001b[0;32m    353\u001b[0m \u001b[38;5;28;01mwhile\u001b[39;00m \u001b[38;5;129;01mnot\u001b[39;00m converged:\n\u001b[0;32m    354\u001b[0m     \u001b[38;5;28;01mif\u001b[39;00m LU \u001b[38;5;129;01mis\u001b[39;00m \u001b[38;5;28;01mNone\u001b[39;00m:\n\u001b[1;32m--> 355\u001b[0m         LU \u001b[38;5;241m=\u001b[39m \u001b[38;5;28;43mself\u001b[39;49m\u001b[38;5;241;43m.\u001b[39;49m\u001b[43mlu\u001b[49m\u001b[43m(\u001b[49m\u001b[38;5;28;43mself\u001b[39;49m\u001b[38;5;241;43m.\u001b[39;49m\u001b[43mI\u001b[49m\u001b[43m \u001b[49m\u001b[38;5;241;43m-\u001b[39;49m\u001b[43m \u001b[49m\u001b[43mc\u001b[49m\u001b[43m \u001b[49m\u001b[38;5;241;43m*\u001b[39;49m\u001b[43m \u001b[49m\u001b[43mJ\u001b[49m\u001b[43m)\u001b[49m\n\u001b[0;32m    357\u001b[0m     converged, n_iter, y_new, d \u001b[38;5;241m=\u001b[39m solve_bdf_system(\n\u001b[0;32m    358\u001b[0m         \u001b[38;5;28mself\u001b[39m\u001b[38;5;241m.\u001b[39mfun, t_new, y_predict, c, psi, LU, \u001b[38;5;28mself\u001b[39m\u001b[38;5;241m.\u001b[39msolve_lu,\n\u001b[0;32m    359\u001b[0m         scale, \u001b[38;5;28mself\u001b[39m\u001b[38;5;241m.\u001b[39mnewton_tol)\n\u001b[0;32m    361\u001b[0m     \u001b[38;5;28;01mif\u001b[39;00m \u001b[38;5;129;01mnot\u001b[39;00m converged:\n",
      "File \u001b[1;32m~\\AppData\\Local\\Programs\\Python\\Python310\\lib\\site-packages\\scipy\\integrate\\_ivp\\bdf.py:222\u001b[0m, in \u001b[0;36mBDF.__init__.<locals>.lu\u001b[1;34m(A)\u001b[0m\n\u001b[0;32m    220\u001b[0m \u001b[38;5;28;01mdef\u001b[39;00m \u001b[38;5;21mlu\u001b[39m(A):\n\u001b[0;32m    221\u001b[0m     \u001b[38;5;28mself\u001b[39m\u001b[38;5;241m.\u001b[39mnlu \u001b[38;5;241m+\u001b[39m\u001b[38;5;241m=\u001b[39m \u001b[38;5;241m1\u001b[39m\n\u001b[1;32m--> 222\u001b[0m     \u001b[38;5;28;01mreturn\u001b[39;00m \u001b[43mlu_factor\u001b[49m\u001b[43m(\u001b[49m\u001b[43mA\u001b[49m\u001b[43m,\u001b[49m\u001b[43m \u001b[49m\u001b[43moverwrite_a\u001b[49m\u001b[38;5;241;43m=\u001b[39;49m\u001b[38;5;28;43;01mTrue\u001b[39;49;00m\u001b[43m)\u001b[49m\n",
      "File \u001b[1;32m~\\AppData\\Local\\Programs\\Python\\Python310\\lib\\site-packages\\scipy\\linalg\\_decomp_lu.py:70\u001b[0m, in \u001b[0;36mlu_factor\u001b[1;34m(a, overwrite_a, check_finite)\u001b[0m\n\u001b[0;32m     16\u001b[0m \u001b[38;5;124;03m\"\"\"\u001b[39;00m\n\u001b[0;32m     17\u001b[0m \u001b[38;5;124;03mCompute pivoted LU decomposition of a matrix.\u001b[39;00m\n\u001b[0;32m     18\u001b[0m \n\u001b[1;32m   (...)\u001b[0m\n\u001b[0;32m     67\u001b[0m \u001b[38;5;124;03mTrue\u001b[39;00m\n\u001b[0;32m     68\u001b[0m \u001b[38;5;124;03m\"\"\"\u001b[39;00m\n\u001b[0;32m     69\u001b[0m \u001b[38;5;28;01mif\u001b[39;00m check_finite:\n\u001b[1;32m---> 70\u001b[0m     a1 \u001b[38;5;241m=\u001b[39m \u001b[43masarray_chkfinite\u001b[49m\u001b[43m(\u001b[49m\u001b[43ma\u001b[49m\u001b[43m)\u001b[49m\n\u001b[0;32m     71\u001b[0m \u001b[38;5;28;01melse\u001b[39;00m:\n\u001b[0;32m     72\u001b[0m     a1 \u001b[38;5;241m=\u001b[39m asarray(a)\n",
      "File \u001b[1;32m~\\AppData\\Local\\Programs\\Python\\Python310\\lib\\site-packages\\numpy\\lib\\function_base.py:627\u001b[0m, in \u001b[0;36masarray_chkfinite\u001b[1;34m(a, dtype, order)\u001b[0m\n\u001b[0;32m    625\u001b[0m a \u001b[38;5;241m=\u001b[39m asarray(a, dtype\u001b[38;5;241m=\u001b[39mdtype, order\u001b[38;5;241m=\u001b[39morder)\n\u001b[0;32m    626\u001b[0m \u001b[38;5;28;01mif\u001b[39;00m a\u001b[38;5;241m.\u001b[39mdtype\u001b[38;5;241m.\u001b[39mchar \u001b[38;5;129;01min\u001b[39;00m typecodes[\u001b[38;5;124m'\u001b[39m\u001b[38;5;124mAllFloat\u001b[39m\u001b[38;5;124m'\u001b[39m] \u001b[38;5;129;01mand\u001b[39;00m \u001b[38;5;129;01mnot\u001b[39;00m np\u001b[38;5;241m.\u001b[39misfinite(a)\u001b[38;5;241m.\u001b[39mall():\n\u001b[1;32m--> 627\u001b[0m     \u001b[38;5;28;01mraise\u001b[39;00m \u001b[38;5;167;01mValueError\u001b[39;00m(\n\u001b[0;32m    628\u001b[0m         \u001b[38;5;124m\"\u001b[39m\u001b[38;5;124marray must not contain infs or NaNs\u001b[39m\u001b[38;5;124m\"\u001b[39m)\n\u001b[0;32m    629\u001b[0m \u001b[38;5;28;01mreturn\u001b[39;00m a\n",
      "\u001b[1;31mValueError\u001b[0m: array must not contain infs or NaNs"
     ]
    }
   ],
   "source": [
    "# Parametros\n",
    "\n",
    "# Calores especificos\n",
    "c_s = 825 # Calor especifico del carbón activado (J kg-1 K-1)\n",
    "c_p = 10167 # Calor especifico del hidrogeno (J kg-1 K-1)\n",
    "c_w = 468 # Calor especifico paredes de acero (J kg-1 K-1)\n",
    "\n",
    "# K: Originalmente estaba dado en J, por eso el /1000\n",
    "# F: Sugerencia: ocupar unidades SI lo más posible\n",
    "\n",
    "# Masas\n",
    "m_s = 0.671 # masa carbón activado (kg)\n",
    "m_w = 3.714 # Masa paredes de acero (kg)\n",
    "M_H2 = 2.0159E-3 # Masa molar del hidregeno (kg mol-1)\n",
    "\n",
    "# Constantes \n",
    "R = 8.314 # J mol-1 K-1\n",
    "alpha = 3080 # Factor entalpico (J mol-1)\n",
    "beta = 18.9 # Factor entropico (J mol-1 K-1)\n",
    "epsilon_b = 0.49 \n",
    "b = 2\n",
    "\n",
    "# Dimensiones estanque\n",
    "V = 2.4946*1e-3 # Volumen de estanque (m^3)\n",
    "A_e = 0.1277 # Área superficial estanque m^2\n",
    "\n",
    "# Otros\n",
    "p_0 = 1470 * 1e6 # Presion de saturacion (Pa)\n",
    "n_0 = 71.6 # Cantidad limite de adsorcion (mol kg-1)\n",
    "\n",
    "\n",
    "# Condiciones iniciales y de borde\n",
    "p_i = np.array([0.033, 0.033, 0.033, 0.032, 0.049, 0.032])*1e6 #Pa\n",
    "T_i = np.array([281, 282, 280.2, 301.5, 302, 302.4]) #K \n",
    "T_f = np.array([282.5, 284.5, 282.2, 301.7, 302.5, 302.5]) #K\n",
    "h_f = np.array([36, 36, 36, 36, 36, 36]) # W m^-2 K^-1\n",
    "\n",
    "# Seleccionar los valores del test deseado\n",
    "p_i = p_i[0]\n",
    "T_i = T_i[0]\n",
    "T_f = T_f[0]\n",
    "h_f = h_f[0]\n",
    "\n",
    "# Número de moles adsorbido en t = 0\n",
    "# n_a0 = n_0 * np.exp(- (R*T_i/(alpha + beta*T_i))**b * np.log(p_0/p_i)**b )\n",
    "n_a0 = 1e-6\n",
    "\n",
    "print(\"---Condiciones iniciales---\")\n",
    "print(\"n_a0 = %.3f\" % n_a0)\n",
    "print(f'La presión incial es: {p_i}\\nLa temperatura incial es: {T_i}\\nLa temperatura final es: {T_f}\\nh_f es: {h_f}')\n",
    "print(\"---Fin CI---\\n\")\n",
    "\n",
    "\n",
    "# Parametros en carga/descarga\n",
    "# Por ahora solo se usara test No. 13\n",
    "t_0 =  0            # s\n",
    "t_f = 1042          # s\n",
    "t_range = np.linspace(t_0, t_f, 1000000)\n",
    "\n",
    "m_dot = 2.023e-5        # kg s-1\n",
    "# Aparentemente calor de \n",
    "h = 3986.8          # J/kg aparentemente mal en el paper\n",
    "\n",
    "# Tupla de parametros que se deben pasar a solve_ivp\n",
    "args = (c_s, c_p, c_w, m_s, m_w, M_H2, R, alpha, beta, epsilon_b, V, A_e, p_0, n_0, b, m_dot, h, h_f, T_f)\n",
    "\n",
    "# En ingeniería química, sobre todo cuando hay reacciones o cambio de fases, se generan sistemas ultraestables\n",
    "# (ultrastiff) no conviene utilizar métodos explícitos. \n",
    "sol = solve_ivp(adsorcion_hidrogeno, (t_0, t_f), [n_a0, T_i, p_i], args=args, t_eval= t_range, method = 'BDF')"
   ]
  },
  {
   "cell_type": "code",
   "execution_count": null,
   "metadata": {},
   "outputs": [],
   "source": [
    "len(sol.y[0])"
   ]
  },
  {
   "cell_type": "code",
   "execution_count": null,
   "metadata": {},
   "outputs": [],
   "source": [
    "plt.figure(figsize=[5,5])\n",
    "plt.plot(sol.t,sol.y[1])\n",
    "plt.xlabel('t / s', size = 14)\n",
    "plt.ylabel('$T$', size = 14)\n",
    "plt.tick_params(labelsize=12)\n",
    "plt.show()"
   ]
  },
  {
   "cell_type": "code",
   "execution_count": null,
   "metadata": {},
   "outputs": [],
   "source": [
    "plt.figure(figsize=[5,5])\n",
    "plt.plot(sol.t,sol.y[0])\n",
    "plt.xlabel('t / s', size = 14)\n",
    "plt.ylabel('$n_a$', size = 14)\n",
    "plt.tick_params(labelsize=12)\n",
    "plt.show()"
   ]
  },
  {
   "cell_type": "code",
   "execution_count": null,
   "metadata": {},
   "outputs": [],
   "source": [
    "m_H2 = sol.y[0] * M_H2 * m_s\n",
    "\n",
    "plt.figure(figsize=[5,5])\n",
    "\n",
    "plt.plot(sol.t,m_H2)\n",
    "plt.xlabel('t / s', size = 14)\n",
    "plt.ylabel('Masa adsorbida $H_2$ / kg', size = 14)\n",
    "# plt.xlim([0,20])\n",
    "plt.tick_params(labelsize=12)\n",
    "plt.show()"
   ]
  },
  {
   "cell_type": "markdown",
   "metadata": {},
   "source": [
    "Sugerencia:\n",
    "* Partir validando la presión\n",
    "* Si las ecuaciones se ven bien y la solución no se ve bien, probablemente es un problema del método numérico de integración o el timestep (delta t). Averiguar como se puede controlar el timestep."
   ]
  },
  {
   "cell_type": "code",
   "execution_count": null,
   "metadata": {},
   "outputs": [],
   "source": [
    "plt.figure(figsize=[5,5])\n",
    "plt.plot(sol.t,sol.y[2])\n",
    "plt.xlabel('t / s', size = 14)\n",
    "plt.ylabel('$p$ / MPa', size = 14)\n",
    "# plt.xlim([0,20])\n",
    "plt.tick_params(labelsize=12)\n",
    "plt.show()"
   ]
  },
  {
   "cell_type": "code",
   "execution_count": null,
   "metadata": {},
   "outputs": [],
   "source": [
    "# b * np.exp(-(zeta*xi)/(theta))**b * n_0*zeta*((zeta*xi)/theta)**(-1+b) * dp_dt - b * np.exp(-(zeta*xi)/(theta))**b * n_0*zeta*((zeta*xi)/theta)**(-1+b) * ((zeta*beta*xi)/(theta**2) + (R*xi)/(theta)) * dT_dt"
   ]
  }
 ],
 "metadata": {
  "kernelspec": {
   "display_name": "Python 3 (ipykernel)",
   "language": "python",
   "name": "python3"
  },
  "language_info": {
   "codemirror_mode": {
    "name": "ipython",
    "version": 3
   },
   "file_extension": ".py",
   "mimetype": "text/x-python",
   "name": "python",
   "nbconvert_exporter": "python",
   "pygments_lexer": "ipython3",
   "version": "3.10.6"
  },
  "vscode": {
   "interpreter": {
    "hash": "620eb4ed2007402b8563cffe8a138559637e3ee9804a716022abebb97e63d62a"
   }
  }
 },
 "nbformat": 4,
 "nbformat_minor": 2
}

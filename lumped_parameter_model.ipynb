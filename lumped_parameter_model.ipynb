{
 "cells": [
  {
   "cell_type": "markdown",
   "metadata": {},
   "source": [
    "# Lumped Parameter Model \n",
    "\n",
    "Adaptado de Xiao et al (2013) Lumped parameter model for charge–discharge cycle of adsorptive\n",
    "hydrogen storage system\n",
    "\n",
    "Autor: Kieran Conradie\n",
    "\n",
    "\n",
    "Las ecuaciones que gobiernan el sistema propuesto en el artículo son: "
   ]
  },
  {
   "cell_type": "markdown",
   "metadata": {},
   "source": [
    "Masa:\n",
    "$$ \\frac{dm_t}{dt}=\\dot{m_i}-\\dot{m_e}$$\n",
    "Las cual puede ser separada en dos casos:\n",
    "    \n",
    "1. Carga: $\\frac{dm_t}{dt}=\\dot{m_i}$\n",
    "2. Descarga: $\\frac{dm_t}{dt}=-\\dot{m_e}$ \n",
    "\n",
    "Dentro de las ecuaciones de masa existen otras que ayudan a especificar el problema: \n",
    "$$m_t = m_g + m_a$$\n",
    "$$m_a = n_a M_{H_2} m_s$$\n",
    "\n",
    "Donde los moles de hidrógeno adsorbido están dados por:\n",
    "$$n_a = n_0 \\exp\\left[-\\left(\\frac{RT}{\\alpha + \\beta T}\\right)^b \\ln{\\left(\\frac{p_0}{p}\\right)}^b\\right]$$\n",
    "y la presión esta dada por:\n",
    "$$p=\\frac{(m-m_a)ZRT}{M_{H_2}V\\epsilon_b}$$"
   ]
  },
  {
   "cell_type": "markdown",
   "metadata": {},
   "source": [
    "Temperatura:\n",
    "$$\\frac{dT}{dt}=\\frac{\\dot{m_i}h_i - \\dot{m_e}h_e + \\frac{dm_a}{dt}\\frac{\\Delta{H}}{M_{H_2}}-h_fA_e(T-T_f)}{m_sc_s+m_ac_{va}+m_gc_{vg}+m_wc_w}$$\n",
    "\n",
    "La derivación de $\\frac{\\partial n_a}{\\partial t}$ se realizó mediante wolfram mathematica"
   ]
  },
  {
   "cell_type": "code",
   "execution_count": null,
   "metadata": {},
   "outputs": [],
   "source": [
    "# Integración numérica de sistemas de ecuaciones diferenciales ordinarias\n",
    "from scipy.integrate import solve_ivp\n",
    "\n",
    "# Minimización de funciones objetivos para ajuste de parámetros\n",
    "from scipy.optimize import least_squares\n",
    "import numpy as np\n",
    "import matplotlib.pyplot as plt\n",
    "import copy"
   ]
  },
  {
   "cell_type": "markdown",
   "metadata": {},
   "source": [
    "### Definición de la función con el sistema de ecuaciones diferenciales"
   ]
  },
  {
   "cell_type": "code",
   "execution_count": null,
   "metadata": {},
   "outputs": [],
   "source": [
    "# Por el momento la función solo trabajara para el proceso de carga, después se le podria dar un parametro mas a la función \n",
    "# que use un kwarg del tipo proceso = carga/descarga y en base a eso realizar cálculos\n",
    "def adsorcion_hidrogeno(t, y, c_s, c_p, c_w, m_s, m_w, M_H2, R, alpha, beta, epsilon, volumen, area, p_0, n_0, b, m_dot, h, h_f, T_f):\n",
    "    \n",
    "    # Desempacar variables\n",
    "    n_a = y[0] # Isoterma de adsorcion \n",
    "    T = y[1] # Temperatura \n",
    "    p = y[2] # Presión\n",
    "    \n",
    "    \n",
    "    # Inicializar variables como las masas (m_t, m_a, m_g) y la presión (Valor dado por las condiciones iniciales)\n",
    "    \n",
    "    # La masa total se puede calcular directamente si se conoce m_dot(t)\n",
    "    m_t = m_dot * t\n",
    "\n",
    "    # Buena practica debugging, graficar variables intermedias\n",
    "    print(f'La masa total del sistema es {m_t}')\n",
    "\n",
    "    # n_a = 0 # Al empezar vacio la masa adsorbida también debe ser 0, quizas se pueda usar para un tiempo \"Justo\" después de t = 0 s\n",
    "    print(\"n_a: \", n_a)\n",
    "    m_a = M_H2*m_s*n_a\n",
    "    \n",
    "    # masa libre de hidrógeno\n",
    "    m_g = m_t - m_a # Relación dada en el artículo\n",
    "\n",
    "    \n",
    "    # Calcular cantidades dependientes de las variables independientes\n",
    "    # n_a = n_0 * np.exp(-((R*T)/(alpha + beta*T))**b * np.log(p_0/p)**b)\n",
    "    dH = alpha * (np.log(p_0/p))**(1/b)\n",
    "    \n",
    "    # Como todas las ecuaciones dependen una de la otra se declara un valor para dn_dt y dp_dt inicial\n",
    "    # Se elije resolver primero para dT_dt ya que solo depende de dn_dt y no de dp\n",
    "    \n",
    "    dp_dt = 0#1e-3 # Se necesita para calcular dn_dt\n",
    "    dn_dt = 0#1e-4 # Se necesita para calcular dT_dt\n",
    "    \n",
    "    \n",
    "    # Se usaron los siguientes cambios de variable para simplificar la escritura del script:\n",
    "    theta = alpha + beta*T\n",
    "    xi = np.log(p_0/p)\n",
    "    zeta = R*T\n",
    "    \n",
    "    sw = True\n",
    "    \n",
    "    # for i in range(10):\n",
    "        # Por el momento asumir que c_v = c_p para el hidrogeo (Solo por flojera, después se debe usar una correlación)\n",
    "    dT_dt = (m_dot*h + M_H2*m_s*dn_dt * (dH/M_H2) - h_f*area*(T-T_f))/(m_s*c_s + m_a*c_p + m_g*c_p + m_w*c_w)\n",
    "\n",
    "    # Ecuación diferencial para la presión\n",
    "    dp_dt = R/(M_H2*epsilon*volumen) * (M_H2*m_s*dn_dt + dT_dt) \n",
    "    print(f'Presion: {p}')\n",
    "    print(f'dp_dt: {dp_dt}')\n",
    "\n",
    "        # Ecuación diferencial para la isoterma\n",
    "    if sw:\n",
    "        dn_dt = (m_t*n_a*(((R*T)/(alpha+beta*T))*np.log(p_0/p))**b * \n",
    "             ((1/np.log(p_0/p))*(1/p)*dp_dt - (alpha/(alpha+beta*T))*(1/T)*dT_dt))\n",
    "    else:\n",
    "        print(f'theta: {theta}')\n",
    "        print(f'Temperatura: {T}')\n",
    "        dn_dt = (b * np.exp(-(zeta*xi)/(theta))**b * n_0*zeta*((zeta*xi)/theta)**(-1+b) * dp_dt \n",
    "                 - b * np.exp(-(zeta*xi)/(theta))**b * n_0*zeta*((zeta*xi)/theta)**(-1+b) * ((zeta*beta*xi)/(theta**2) \n",
    "                                                                                             + (R*xi)/(theta)) * dT_dt)\n",
    "    \n",
    "    tol = 10e-6 # Tolerancia para encontrar la mejor aproximación para las funciones\n",
    "    \n",
    "    # Esto estaba en cero pero se debe inicializar mayor que uno, de otra manera\n",
    "    # nunca entra al loop\n",
    "    dif = 10 \n",
    "\n",
    "    # Número de loops realizados (Para debugear)\n",
    "    n = 0\n",
    "\n",
    "    # while dif > tol :\n",
    "        \n",
    "        # Almacenar los valores de la iteración anterior\n",
    "    dT_dt_old = copy.deepcopy(dT_dt) \n",
    "    dp_dt_old = copy.deepcopy(dp_dt)\n",
    "    dn_dt_old = copy.deepcopy(dn_dt) # En esta linea decía dpdt\n",
    "    \n",
    "        # Encontrar los nuevos valores de las derivadas\n",
    "        # F:H estaba con H mayúscula\n",
    "    dT_dt = (m_dot*h + M_H2*m_s*dn_dt - h_f*area*(T-T_f))/(m_s*c_s + m_a*c_p + m_g*c_p + m_w*c_w)\n",
    "    dp_dt = R/(M_H2*epsilon*volumen) * (M_H2*m_s*dn_dt + dT_dt) \n",
    "        \n",
    "    if sw:\n",
    "        dn_dt = (m_t*n_a*(((R*T)/(alpha+beta*T))*np.log(p_0/p))**b * \n",
    "             ((1/np.log(p_0/p))*(1/p)*dp_dt - (alpha/(alpha+beta*T))*(1/T)*dT_dt))\n",
    "    else:\n",
    "        dn_dt = (b * np.exp(-(zeta*xi)/(theta))**b * n_0*zeta*((zeta*xi)/theta)**(-1+b) * dp_dt \n",
    "                 - b * np.exp(-(zeta*xi)/(theta))**b * n_0*zeta*((zeta*xi)/theta)**(-1+b) * ((zeta*beta*xi)/(theta**2) \n",
    "                                                                                             + (R*xi)/(theta)) * dT_dt)\n",
    "      \n",
    "    print(f'Nuevas variables \\ndT {dT_dt} dP {dp_dt} dn {dn_dt}') \n",
    "        \n",
    "    dif = np.abs(dT_dt - dT_dt_old) + np.abs(dp_dt - dp_dt_old) + np.abs(dn_dt - dn_dt_old)\n",
    "    n = n + 1\n",
    "        # print(f'Iteración: {n}, la diferencia actual es: %.3e ' % dif)\n",
    "    \n",
    "    # Empacar el vector del lado derecho en un vector 2x1\n",
    "    dy = np.array([dn_dt, dT_dt, dp_dt])\n",
    "    \n",
    "    return dy"
   ]
  },
  {
   "cell_type": "markdown",
   "metadata": {},
   "source": [
    "### Parametros y condiciones"
   ]
  },
  {
   "cell_type": "code",
   "execution_count": null,
   "metadata": {},
   "outputs": [],
   "source": [
    "# Parametros\n",
    "\n",
    "# Calores especificos\n",
    "c_s = 825 # Calor especifico del carbón activado (J kg-1 K-1)\n",
    "c_p = 10167 # Calor especifico del hidrogeno (J kg-1 K-1)\n",
    "c_w = 468 # Calor especifico paredes de acero (J kg-1 K-1)\n",
    "\n",
    "# K: Originalmente estaba dado en J, por eso el /1000\n",
    "# F: Sugerencia: ocupar unidades SI lo más posible\n",
    "\n",
    "# Masas\n",
    "m_s = 0.671 # masa carbón activado (kg)\n",
    "m_w = 3.714 # Masa paredes de acero (kg)\n",
    "M_H2 = 2.0159E-3 # Masa molar del hidregeno (kg mol-1)\n",
    "\n",
    "# Constantes \n",
    "R = 8.314 # J mol-1 K-1\n",
    "alpha = 3080 # Factor entalpico (J mol-1)\n",
    "beta = 18.9 # Factor entropico (J mol-1 K-1)\n",
    "epsilon_b = 0.49 \n",
    "b = 2\n",
    "\n",
    "# Dimensiones estanque\n",
    "V = 2.4946*1e-3 # Volumen de estanque (m^3)\n",
    "A_e = 0.1277 # Área superficial estanque m^2\n",
    "\n",
    "# Otros\n",
    "p_0 = 1470 * 1e6 # Presion de saturacion (Pa)\n",
    "n_0 = 71.6 # Cantidad limite de adsorcion (mol kg-1)\n",
    "\n",
    "\n",
    "# Condiciones iniciales y de borde\n",
    "p_i = np.array([0.033, 0.033, 0.033, 0.032, 0.049, 0.032])*1e6 #Pa\n",
    "T_i = np.array([281, 282, 280.2, 301.5, 302, 302.4]) #K \n",
    "T_f = np.array([282.5, 284.5, 282.2, 301.7, 302.5, 302.5]) #K\n",
    "h_f = np.array([36, 36, 36, 36, 36, 36]) # W m^-2 K^-1\n",
    "\n",
    "# Seleccionar los valores del test deseado\n",
    "p_i = p_i[0]\n",
    "T_i = T_i[0]\n",
    "T_f = T_f[0]\n",
    "h_f = h_f[0]\n",
    "\n",
    "# Número de moles adsorbido en t = 0\n",
    "n_a0 = n_0 * np.exp(- (R*T_i/(alpha + beta*T_i))**b * np.log(p_0/p_i)**b )\n",
    "# n_a0 = 1e-6\n",
    "\n",
    "print(\"---Condiciones iniciales---\")\n",
    "print(\"n_a0 = %.3f\" % n_a0)\n",
    "print(f'La presión incial es: {p_i}\\nLa temperatura incial es: {T_i}\\nLa temperatura final es: {T_f}\\nh_f es: {h_f}')\n",
    "print(\"---Fin CI---\\n\")\n",
    "\n",
    "\n",
    "# Parametros en carga/descarga\n",
    "# Por ahora solo se usara test No. 13\n",
    "t_0 =  0            # s\n",
    "t_f = 1042          # s\n",
    "t_range = np.linspace(t_0, t_f, 1000000)\n",
    "\n",
    "m_dot = 2.023e-5        # kg s-1\n",
    "# Aparentemente calor de \n",
    "h = 3986.8          # J/kg aparentemente mal en el paper\n",
    "\n",
    "# Tupla de parametros que se deben pasar a solve_ivp\n",
    "args = (c_s, c_p, c_w, m_s, m_w, M_H2, R, alpha, beta, epsilon_b, V, A_e, p_0, n_0, b, m_dot, h, h_f, T_f)\n",
    "\n",
    "# En ingeniería química, sobre todo cuando hay reacciones o cambio de fases, se generan sistemas ultraestables\n",
    "# (ultrastiff) no conviene utilizar métodos explícitos. \n",
    "sol = solve_ivp(adsorcion_hidrogeno, (t_0, t_f), [n_a0, T_i, p_i], args=args, t_eval= t_range, method = 'BDF')"
   ]
  },
  {
   "cell_type": "code",
   "execution_count": null,
   "metadata": {},
   "outputs": [],
   "source": [
    "sol.y[2]"
   ]
  },
  {
   "cell_type": "code",
   "execution_count": null,
   "metadata": {},
   "outputs": [],
   "source": [
    "plt.figure(figsize=[5,5])\n",
    "plt.plot(sol.t,sol.y[1])\n",
    "plt.xlabel('t / s', size = 14)\n",
    "plt.ylabel('$T$', size = 14)\n",
    "plt.tick_params(labelsize=12)\n",
    "plt.show()"
   ]
  },
  {
   "cell_type": "code",
   "execution_count": null,
   "metadata": {},
   "outputs": [],
   "source": [
    "plt.figure(figsize=[5,5])\n",
    "plt.plot(sol.t,sol.y[0])\n",
    "plt.xlabel('t / s', size = 14)\n",
    "plt.ylabel('$n_a$', size = 14)\n",
    "plt.tick_params(labelsize=12)\n",
    "plt.show()"
   ]
  },
  {
   "cell_type": "code",
   "execution_count": null,
   "metadata": {},
   "outputs": [],
   "source": [
    "m_H2 = sol.y[0] * M_H2 * m_s\n",
    "\n",
    "plt.figure(figsize=[5,5])\n",
    "\n",
    "plt.plot(sol.t,m_H2)\n",
    "plt.xlabel('t / s', size = 14)\n",
    "plt.ylabel('Masa adsorbida $H_2$ / kg', size = 14)\n",
    "# plt.xlim([0,20])\n",
    "plt.tick_params(labelsize=12)\n",
    "plt.show()"
   ]
  },
  {
   "cell_type": "markdown",
   "metadata": {},
   "source": [
    "Sugerencia:\n",
    "* Partir validando la presión\n",
    "* Si las ecuaciones se ven bien y la solución no se ve bien, probablemente es un problema del método numérico de integración o el timestep (delta t). Averiguar como se puede controlar el timestep."
   ]
  },
  {
   "cell_type": "code",
   "execution_count": null,
   "metadata": {},
   "outputs": [],
   "source": [
    "plt.figure(figsize=[5,5])\n",
    "plt.plot(sol.t,sol.y[2])\n",
    "plt.xlabel('t / s', size = 14)\n",
    "plt.ylabel('$p$ / Pa', size = 14)\n",
    "# plt.xlim([0,20])\n",
    "plt.tick_params(labelsize=12)\n",
    "plt.show()"
   ]
  },
  {
   "cell_type": "code",
   "execution_count": null,
   "metadata": {},
   "outputs": [],
   "source": [
    "# b * np.exp(-(zeta*xi)/(theta))**b * n_0*zeta*((zeta*xi)/theta)**(-1+b) * dp_dt - b * np.exp(-(zeta*xi)/(theta))**b * n_0*zeta*((zeta*xi)/theta)**(-1+b) * ((zeta*beta*xi)/(theta**2) + (R*xi)/(theta)) * dT_dt"
   ]
  },
  {
   "cell_type": "code",
   "execution_count": null,
   "metadata": {},
   "outputs": [],
   "source": [
    "# Moles totales\n",
    "new_m_t = m_dot * t_range\n",
    "print(new_m_t)\n",
    "\n",
    "m_g_f = new_m_t - m_H2\n",
    "\n",
    "plt.figure(figsize=[5,5])\n",
    "\n",
    "plt.plot(sol.t,m_g_f)\n",
    "plt.xlabel('t / s', size = 14)\n",
    "plt.ylabel('Masa gas $H_2$ / kg', size = 14)\n",
    "# plt.xlim([0,20])\n",
    "plt.tick_params(labelsize=12)\n",
    "plt.show()"
   ]
  },
  {
   "cell_type": "code",
   "execution_count": null,
   "metadata": {},
   "outputs": [],
   "source": []
  },
  {
   "attachments": {},
   "cell_type": "markdown",
   "metadata": {},
   "source": [
    "Pasos\n",
    "\n",
    "Determinar dn_dt: revisar que ese valor sea $> 0$ y menor a $n_a$, tambien debe ser menor a $m_dot$.\n",
    "\n",
    "Simplificar el problema, si $Q_{arld} = 0$, en ese caso revisar si la física hace sentido.\n",
    "\n",
    "Re leer el paper para verificar si nos estamos olvidando de algo.\n",
    "\n",
    "Volver a plantear el sistema, en cada tiempo hay un m_t(t)\n"
   ]
  }
 ],
 "metadata": {
  "kernelspec": {
   "display_name": "Python 3 (ipykernel)",
   "language": "python",
   "name": "python3"
  },
  "language_info": {
   "codemirror_mode": {
    "name": "ipython",
    "version": 3
   },
   "file_extension": ".py",
   "mimetype": "text/x-python",
   "name": "python",
   "nbconvert_exporter": "python",
   "pygments_lexer": "ipython3",
   "version": "3.10.6"
  },
  "vscode": {
   "interpreter": {
    "hash": "620eb4ed2007402b8563cffe8a138559637e3ee9804a716022abebb97e63d62a"
   }
  }
 },
 "nbformat": 4,
 "nbformat_minor": 2
}

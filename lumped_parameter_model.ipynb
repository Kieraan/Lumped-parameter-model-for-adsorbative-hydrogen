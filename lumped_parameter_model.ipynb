{
 "cells": [
  {
   "attachments": {},
   "cell_type": "markdown",
   "metadata": {},
   "source": [
    "# Lumped Parameter Model \n",
    "\n",
    "Adaptado de Xiao et al (2013) Lumped parameter model for charge–discharge cycle of adsorptive\n",
    "hydrogen storage system\n",
    "\n",
    "Autor: Kieran Conradie\n",
    "\n",
    "\n",
    "Las ecuaciones que gobiernan el sistema propuesto en el artículo son: "
   ]
  },
  {
   "attachments": {},
   "cell_type": "markdown",
   "metadata": {},
   "source": [
    "Masa:\n",
    "$$ \\frac{dm_t}{dt}=\\dot{m_i}-\\dot{m_e}$$\n",
    "Las cual puede ser separada en dos casos:\n",
    "    \n",
    "1. Carga: $\\frac{dm_t}{dt}=\\dot{m_i}$\n",
    "2. Descarga: $\\frac{dm_t}{dt}=-\\dot{m_e}$ \n",
    "\n",
    "Dentro de las ecuaciones de masa existen otras que ayudan a especificar el problema: \n",
    "$$m_t = m_g + m_a$$\n",
    "$$m_a = n_a M_{H_2} m_s$$\n",
    "\n",
    "Donde los moles de hidrógeno adsorbido están dados por:\n",
    "$$n_a = n_0 \\exp\\left[-\\left(\\frac{RT}{\\alpha + \\beta T}\\right)^b \\ln{\\left(\\frac{p_0}{p}\\right)}^b\\right]$$\n",
    "y la presión esta dada por:\n",
    "$$p=\\frac{(m-m_a)ZRT}{M_{H_2}V\\epsilon_b}$$"
   ]
  },
  {
   "attachments": {},
   "cell_type": "markdown",
   "metadata": {},
   "source": [
    "Temperatura:\n",
    "$$\\frac{dT}{dt}=\\frac{\\dot{m_i}h_i - \\dot{m_e}h_e + \\frac{dm_a}{dt}\\frac{\\Delta{H}}{M_{H_2}}-h_fA_e(T-T_f)}{m_sc_s+m_ac_{va}+m_gc_{vg}+m_wc_w}$$\n",
    "\n",
    "Además se debe notar que en Xiao et al. (2012) Finite element simulation of heat and mass transfer in activated carbon hydrogen storage tank, se obtuvo:\n",
    "$$\\frac{\\partial{n_a}}{\\partial t}=mn_a\\left(\\frac{RT}{\\alpha + \\beta T}\\ln{\\left(\\frac{p_0}{p}\\right)}\\right)^b \\left[\\frac{1}{\\ln{(p_0/p)}}\\frac{1}{p}\\frac{\\partial p}{\\partial t}-\\frac{\\alpha}{\\alpha + \\beta T}\\frac{1}{T}\\frac{\\partial T}{\\partial t}\\right]$$"
   ]
  },
  {
   "cell_type": "code",
   "execution_count": 26,
   "metadata": {},
   "outputs": [],
   "source": [
    "# Integración numérica de sistemas de ecuaciones diferenciales ordinarias\n",
    "from scipy.integrate import solve_ivp\n",
    "\n",
    "# Minimización de funciones objetivos para ajuste de parámetros\n",
    "from scipy.optimize import least_squares\n",
    "import numpy as np\n",
    "import matplotlib.pyplot as plt"
   ]
  },
  {
   "attachments": {},
   "cell_type": "markdown",
   "metadata": {},
   "source": [
    "### Definición de la función con el sistema de ecuaciones diferenciales"
   ]
  },
  {
   "cell_type": "code",
   "execution_count": 27,
   "metadata": {},
   "outputs": [],
   "source": [
    "# Por el momento la función solo trabajara para el proceso de carga, después se le podria dar un parametro mas a la función \n",
    "# que use un kwarg del tipo proceso = carga/descarga y en base a eso realizar cálculos\n",
    "def adsorcion_hidrogeno(t, y, c_s, c_p, c_w, m_s, m_w, M_H2, R, alpha, beta, epsilon, volumen, area, p_0, n_0, b, m_dot, h, h_f, T_f):\n",
    "    \n",
    "    # Desempacar variables\n",
    "    n_a = y[0] # Isoterma de adsorcion \n",
    "    T = y[1] # Temperatura \n",
    "    p = y[2] # Presión\n",
    "    \n",
    "    \n",
    "    # Inicializar variables como las masas (m_t, m_a, m_g) y la presión (Valor dado por las condiciones iniciales)\n",
    "    m_t = 0 # Al principio del experimento el contenedor comienza vacio\n",
    "    n_a = 0 # Al empezar vacio la masa adsorbida también debe ser 0, quizas se pueda usar para un tiempo \"Justo\" después de t = 0 s\n",
    "    m_a = M_H2*m_s*n_a\n",
    "    m_g = m_t - m_a # Relación dada en el artículo\n",
    "\n",
    "    \n",
    "    # Calcular cantidades dependientes de las variables independientes\n",
    "    n_a = n_0 * np.exp(-((R*T)/(alpha + beta*T))**b * np.log(p_0/p)**b)\n",
    "    dH = alpha * (np.log(p_0/p))**(1/b)\n",
    "    \n",
    "    \n",
    "    # Como todas las ecuaciones dependen una de la otra se declara un valor para dn_dt y dp_dt inicial\n",
    "    # Se elije resolver primero para dT_dt ya que solo depende de dn_dt y no de dp\n",
    "    dp_dt = 0 # Se necesita para calcular dn_dt\n",
    "    dn_dt = 0 # Se necesita para calcular dT_dt\n",
    "    \n",
    "    # Ecuación diferencial para la temperatura\n",
    "    # Por el momento asumir que c_v = c_p para el hidrogeo (Solo por flojera, después se debe usar una correlación)\n",
    "    dT_dt = (m_dot*h + M_H2*m_s*dn_dt - h_f*area*(T-T_f))/(m_s*c_s + m_a*c_p + m_g*c_p + m_w*c_w)\n",
    "    \n",
    "    # Ecuación diferencial para la presión\n",
    "    dp_dt = R/(M_H2*epsilon*volumen) * (M_H2*m_s*dn_dt + dT_dt) \n",
    "    \n",
    "    # Ecuación diferencial para la isoterma\n",
    "    dn_dt = (m_t*n_a*(((R*T)/(alpha+beta*T))*np.log(p_0/p))**b * \n",
    "             ((1/np.log(p_0/p))*(1/p)*dp_dt - (alpha/(alpha+beta*T))*(1/T)*dT_dt))\n",
    "    \n",
    "    tol = 10e-6 # Tolerancia para encontrar la mejor aproximación para las funciones\n",
    "    dif = 0 \n",
    "    \n",
    "    while dif > tol :\n",
    "        # Número de loops realizados (Para debugear)\n",
    "        n = 0\n",
    "        \n",
    "        # Almacenar los valores de la iteración anterior\n",
    "        dT_dt_old = dT_dt \n",
    "        dp_dt_old = dp_dt\n",
    "        dn_dt_old = dp_dt\n",
    "    \n",
    "        # Encontrar los nuevos valores de las derivadas\n",
    "        dT_dt = (m_dot*H + M_H2*m_s*dn_dt - h_f*area*(T-T_f))/(m_s*c_s + m_a*c_p + m_g*c_p + m_w*c_w)\n",
    "        dp_dt = R/(M_H2*epsilon*volumen) * (M_H2*m_s*dn_dt + dT_dt) \n",
    "        dn_dt = (m_t*n_a*(((R*T)/(alpha+beta*T))*np.log(p_0/p))**b * \n",
    "             ((1/np.log(p_0/p))*(1/p)*dp_dt - (alpha/(alpha+beta*T))*(1/T)*dT_dt))\n",
    "        \n",
    "        dif = np.abs(dT_dt - dT_dt_old) + np.abs(dp_dt - dp_dt_old) + np.abs(dn_dt - dn_dt_old)\n",
    "        print(f'Iteración: {n}, la diferencia actual es: {dif}')\n",
    "    \n",
    "    # Empacar el vector del lado derecho en un vector 2x1\n",
    "    dy = np.array([dn_dt, dT_dt, dp_dt])\n",
    "    \n",
    "    return dy"
   ]
  },
  {
   "attachments": {},
   "cell_type": "markdown",
   "metadata": {},
   "source": [
    "### Parametros y condiciones"
   ]
  },
  {
   "cell_type": "code",
   "execution_count": 28,
   "metadata": {},
   "outputs": [
    {
     "name": "stdout",
     "output_type": "stream",
     "text": [
      "La presiónn incial es: 0.033\n",
      "La temperatura incial es: 281\n",
      "La temperatura final es: 282.5\n",
      "h_f es: 36\n"
     ]
    },
    {
     "name": "stderr",
     "output_type": "stream",
     "text": [
      "C:\\Users\\kiera\\AppData\\Local\\Temp\\ipykernel_6140\\2467199864.py:20: RuntimeWarning: invalid value encountered in double_scalars\n",
      "  dH = alpha * (np.log(p_0/p))**(1/b)\n"
     ]
    }
   ],
   "source": [
    "\n",
    "# Parametros\n",
    "\n",
    "# Calores especificos\n",
    "c_s = 825/1000 # Calor especifico del carbón activado (kJ kg-1 K-1)\n",
    "c_p = 10167/1000 # Calor especifico del hidrogeno (kJ kg-1 K-1)\n",
    "c_w = 468/1000 # Calor especifico paredes de acero (kJ kg-1 K-1)\n",
    "# Originalmente estaba dado en J, por eso el /1000\n",
    "\n",
    "# Masas\n",
    "m_s = 0.671 # masa carbón activado (kg)\n",
    "m_w = 3.714 # Masa paredes de acero (kg)\n",
    "M_H2 = 2.0159E-3 # Masa molar del hidregeno (kg mol-1)\n",
    "\n",
    "# Constantes \n",
    "R = 8.314 # J mol-1 K-1\n",
    "alpha = 3080 # Factor entalpico (J mol-1)\n",
    "beta = 18.9 # Factor entropico (J mol-1 K-1)\n",
    "epsilon_b = 0.49 \n",
    "b = 2\n",
    "\n",
    "# Dimensiones estanque\n",
    "V = 2.4946 # Volumen de estanque (L)\n",
    "A_e = 0.1277 # Área superficial estanque\n",
    "\n",
    "# Otros\n",
    "p_0 = 1470 # Presion de saturacion (MPa)\n",
    "n_0 = 71.6 # Cantidad limite de adsorcion (mol kg-1)\n",
    "\n",
    "\n",
    "# Condiciones iniciales y de borde\n",
    "p_i = [0.033, 0.033, 0.033, 0.032, 0.049, 0.032] #MPa\n",
    "T_i = [281, 282, 280.2, 301.5, 302, 302.4] #K \n",
    "T_f = [282.5, 284.5, 282.2, 301.7, 302.5, 302.5] #K\n",
    "h_f = [36, 36, 36, 36, 36, 36]\n",
    "\n",
    "# Seleccionar los valores del test deseado\n",
    "p_i = p_i[0]\n",
    "T_i = T_i[0]\n",
    "T_f = T_f[0]\n",
    "h_f = h_f[0]\n",
    "print(f'La presión incial es: {p_i}\\nLa temperatura incial es: {T_i}\\nLa temperatura final es: {T_f}\\nh_f es: {h_f}')\n",
    "\n",
    "\n",
    "# Parametros en carga/descarga\n",
    "# Por ahora solo se usara test No. 13\n",
    "t_0 =  0            # s\n",
    "t_f = 1042          # s\n",
    "t_range = np.linspace(t_0, t_f, 1000)\n",
    "\n",
    "m_dot = 2.023e-5    # kg s-1\n",
    "h = 3986.8          # kJ/kg\n",
    "\n",
    "# Tupla de parametros que se deben pasar a solve_ivp\n",
    "args = (c_s, c_p, c_w, m_s, m_w, M_H2, R, alpha, beta, epsilon_b, V, A_e, p_0, n_0, b, m_dot, h, h_f, T_f)\n",
    "\n",
    "\n",
    "sol = solve_ivp(adsorcion_hidrogeno, (t_0, t_f), [0, T_i, p_i], args=args, t_eval= t_range)"
   ]
  },
  {
   "cell_type": "code",
   "execution_count": 30,
   "metadata": {},
   "outputs": [
    {
     "data": {
      "text/plain": [
       "array([0., 0., 0., 0., 0., 0., 0., 0., 0., 0., 0., 0., 0., 0., 0., 0., 0.,\n",
       "       0., 0., 0., 0., 0., 0., 0., 0., 0., 0., 0., 0., 0., 0., 0., 0., 0.,\n",
       "       0., 0., 0., 0., 0., 0., 0., 0., 0., 0., 0., 0., 0., 0., 0., 0., 0.,\n",
       "       0., 0., 0., 0., 0., 0., 0., 0., 0., 0., 0., 0., 0., 0., 0., 0., 0.,\n",
       "       0., 0., 0., 0., 0., 0., 0., 0., 0., 0., 0., 0., 0., 0., 0., 0., 0.,\n",
       "       0., 0., 0., 0., 0., 0., 0., 0., 0., 0., 0., 0., 0., 0., 0., 0., 0.,\n",
       "       0., 0., 0., 0., 0., 0., 0., 0., 0., 0., 0., 0., 0., 0., 0., 0., 0.,\n",
       "       0., 0., 0., 0., 0., 0., 0., 0., 0., 0., 0., 0., 0., 0., 0., 0., 0.,\n",
       "       0., 0., 0., 0., 0., 0., 0., 0., 0., 0., 0., 0., 0., 0., 0., 0., 0.,\n",
       "       0., 0., 0., 0., 0., 0., 0., 0., 0., 0., 0., 0., 0., 0., 0., 0., 0.,\n",
       "       0., 0., 0., 0., 0., 0., 0., 0., 0., 0., 0., 0., 0., 0., 0., 0., 0.,\n",
       "       0., 0., 0., 0., 0., 0., 0., 0., 0., 0., 0., 0., 0., 0., 0., 0., 0.,\n",
       "       0., 0., 0., 0., 0., 0., 0., 0., 0., 0., 0., 0., 0., 0., 0., 0., 0.,\n",
       "       0., 0., 0., 0., 0., 0., 0., 0., 0., 0., 0., 0., 0., 0., 0., 0., 0.,\n",
       "       0., 0., 0., 0., 0., 0., 0., 0., 0., 0., 0., 0., 0., 0., 0., 0., 0.,\n",
       "       0., 0., 0., 0., 0., 0., 0., 0., 0., 0., 0., 0., 0., 0., 0., 0., 0.,\n",
       "       0., 0., 0., 0., 0., 0., 0., 0., 0., 0., 0., 0., 0., 0., 0., 0., 0.,\n",
       "       0., 0., 0., 0., 0., 0., 0., 0., 0., 0., 0., 0., 0., 0., 0., 0., 0.,\n",
       "       0., 0., 0., 0., 0., 0., 0., 0., 0., 0., 0., 0., 0., 0., 0., 0., 0.,\n",
       "       0., 0., 0., 0., 0., 0., 0., 0., 0., 0., 0., 0., 0., 0., 0., 0., 0.,\n",
       "       0., 0., 0., 0., 0., 0., 0., 0., 0., 0., 0., 0., 0., 0., 0., 0., 0.,\n",
       "       0., 0., 0., 0., 0., 0., 0., 0., 0., 0., 0., 0., 0., 0., 0., 0., 0.,\n",
       "       0., 0., 0., 0., 0., 0., 0., 0., 0., 0., 0., 0., 0., 0., 0., 0., 0.,\n",
       "       0., 0., 0., 0., 0., 0., 0., 0., 0., 0., 0., 0., 0., 0., 0., 0., 0.,\n",
       "       0., 0., 0., 0., 0., 0., 0., 0., 0., 0., 0., 0., 0., 0., 0., 0., 0.,\n",
       "       0., 0., 0., 0., 0., 0., 0., 0., 0., 0., 0., 0., 0., 0., 0., 0., 0.,\n",
       "       0., 0., 0., 0., 0., 0., 0., 0., 0., 0., 0., 0., 0., 0., 0., 0., 0.,\n",
       "       0., 0., 0., 0., 0., 0., 0., 0., 0., 0., 0., 0., 0., 0., 0., 0., 0.,\n",
       "       0., 0., 0., 0., 0., 0., 0., 0., 0., 0., 0., 0., 0., 0., 0., 0., 0.,\n",
       "       0., 0., 0., 0., 0., 0., 0., 0., 0., 0., 0., 0., 0., 0., 0., 0., 0.,\n",
       "       0., 0., 0., 0., 0., 0., 0., 0., 0., 0., 0., 0., 0., 0., 0., 0., 0.,\n",
       "       0., 0., 0., 0., 0., 0., 0., 0., 0., 0., 0., 0., 0., 0., 0., 0., 0.,\n",
       "       0., 0., 0., 0., 0., 0., 0., 0., 0., 0., 0., 0., 0., 0., 0., 0., 0.,\n",
       "       0., 0., 0., 0., 0., 0., 0., 0., 0., 0., 0., 0., 0., 0., 0., 0., 0.,\n",
       "       0., 0., 0., 0., 0., 0., 0., 0., 0., 0., 0., 0., 0., 0., 0., 0., 0.,\n",
       "       0., 0., 0., 0., 0., 0., 0., 0., 0., 0., 0., 0., 0., 0., 0., 0., 0.,\n",
       "       0., 0., 0., 0., 0., 0., 0., 0., 0., 0., 0., 0., 0., 0., 0., 0., 0.,\n",
       "       0., 0., 0., 0., 0., 0., 0., 0., 0., 0., 0., 0., 0., 0., 0., 0., 0.,\n",
       "       0., 0., 0., 0., 0., 0., 0., 0., 0., 0., 0., 0., 0., 0., 0., 0., 0.,\n",
       "       0., 0., 0., 0., 0., 0., 0., 0., 0., 0., 0., 0., 0., 0., 0., 0., 0.,\n",
       "       0., 0., 0., 0., 0., 0., 0., 0., 0., 0., 0., 0., 0., 0., 0., 0., 0.,\n",
       "       0., 0., 0., 0., 0., 0., 0., 0., 0., 0., 0., 0., 0., 0., 0., 0., 0.,\n",
       "       0., 0., 0., 0., 0., 0., 0., 0., 0., 0., 0., 0., 0., 0., 0., 0., 0.,\n",
       "       0., 0., 0., 0., 0., 0., 0., 0., 0., 0., 0., 0., 0., 0., 0., 0., 0.,\n",
       "       0., 0., 0., 0., 0., 0., 0., 0., 0., 0., 0., 0., 0., 0., 0., 0., 0.,\n",
       "       0., 0., 0., 0., 0., 0., 0., 0., 0., 0., 0., 0., 0., 0., 0., 0., 0.,\n",
       "       0., 0., 0., 0., 0., 0., 0., 0., 0., 0., 0., 0., 0., 0., 0., 0., 0.,\n",
       "       0., 0., 0., 0., 0., 0., 0., 0., 0., 0., 0., 0., 0., 0., 0., 0., 0.,\n",
       "       0., 0., 0., 0., 0., 0., 0., 0., 0., 0., 0., 0., 0., 0., 0., 0., 0.,\n",
       "       0., 0., 0., 0., 0., 0., 0., 0., 0., 0., 0., 0., 0., 0., 0., 0., 0.,\n",
       "       0., 0., 0., 0., 0., 0., 0., 0., 0., 0., 0., 0., 0., 0., 0., 0., 0.,\n",
       "       0., 0., 0., 0., 0., 0., 0., 0., 0., 0., 0., 0., 0., 0., 0., 0., 0.,\n",
       "       0., 0., 0., 0., 0., 0., 0., 0., 0., 0., 0., 0., 0., 0., 0., 0., 0.,\n",
       "       0., 0., 0., 0., 0., 0., 0., 0., 0., 0., 0., 0., 0., 0., 0., 0., 0.,\n",
       "       0., 0., 0., 0., 0., 0., 0., 0., 0., 0., 0., 0., 0., 0., 0., 0., 0.,\n",
       "       0., 0., 0., 0., 0., 0., 0., 0., 0., 0., 0., 0., 0., 0., 0., 0., 0.,\n",
       "       0., 0., 0., 0., 0., 0., 0., 0., 0., 0., 0., 0., 0., 0., 0., 0., 0.,\n",
       "       0., 0., 0., 0., 0., 0., 0., 0., 0., 0., 0., 0., 0., 0., 0., 0., 0.,\n",
       "       0., 0., 0., 0., 0., 0., 0., 0., 0., 0., 0., 0., 0., 0.])"
      ]
     },
     "execution_count": 30,
     "metadata": {},
     "output_type": "execute_result"
    }
   ],
   "source": [
    "sol.y[0]"
   ]
  },
  {
   "cell_type": "code",
   "execution_count": null,
   "metadata": {},
   "outputs": [],
   "source": []
  }
 ],
 "metadata": {
  "kernelspec": {
   "display_name": "Python 3",
   "language": "python",
   "name": "python3"
  },
  "language_info": {
   "codemirror_mode": {
    "name": "ipython",
    "version": 3
   },
   "file_extension": ".py",
   "mimetype": "text/x-python",
   "name": "python",
   "nbconvert_exporter": "python",
   "pygments_lexer": "ipython3",
   "version": "3.10.6"
  },
  "orig_nbformat": 4,
  "vscode": {
   "interpreter": {
    "hash": "620eb4ed2007402b8563cffe8a138559637e3ee9804a716022abebb97e63d62a"
   }
  }
 },
 "nbformat": 4,
 "nbformat_minor": 2
}

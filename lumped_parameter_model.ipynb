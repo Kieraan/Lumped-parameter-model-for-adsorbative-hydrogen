{
 "cells": [
  {
   "attachments": {},
   "cell_type": "markdown",
   "metadata": {},
   "source": [
    "# Lumped Parameter Model \n",
    "Adaptado de Xiao et al (2013)\n",
    "\n",
    "Autor: Kieran Conradie"
   ]
  },
  {
   "cell_type": "code",
   "execution_count": 3,
   "metadata": {},
   "outputs": [],
   "source": [
    "import numpy as np\n",
    "import matplotlib.pyplot as plt\n",
    "import scipy as sp"
   ]
  },
  {
   "attachments": {},
   "cell_type": "markdown",
   "metadata": {},
   "source": [
    "### Parametros y condiciones"
   ]
  },
  {
   "cell_type": "code",
   "execution_count": 11,
   "metadata": {},
   "outputs": [],
   "source": [
    "# Parametros\n",
    "c_s = 825 # Calor especifico del carbón activado (J kg-1 K-1)\n",
    "m_s = 0.671 # masa carbón activado (kg)\n",
    "c_p = 10167 # Calor especifico del hidrogeno (J kg-1 K-1)\n",
    "M_H2 = 2.0159E-3 # Masa molar del hidregeno (kg mol-1)\n",
    "R = 8.314 # J mol-1 K-1\n",
    "c_w = 468 # Calor especifico paredes de acero (J kg-1 K-1) \n",
    "m_w = 3.714 # Masa paredes de acero (kg)\n",
    "V = 2.4946 # L \n",
    "A_e = 0.1277 # Área superficial estanque\n",
    "alpha = 3080 # Factor entalpico (J mol-1)\n",
    "beta = 18.9 # Factor entropico (J mol-1 K-1)\n",
    "p_0 = 1470 # Presion de saturacion (MPa)\n",
    "n_0 = 71.6 # Cantidad limite de adsorcion (mol kg-1)\n",
    "epsilon_b = 0.49"
   ]
  },
  {
   "cell_type": "code",
   "execution_count": 8,
   "metadata": {},
   "outputs": [
    {
     "name": "stdout",
     "output_type": "stream",
     "text": [
      "Las presiones inciales son: [0.033, 0.033, 0.033, 0.032, 0.049, 0.032]\n",
      "Las Temperaturas inciales son: [281, 282, 280.2, 301.5, 302, 302.4]\n",
      "Las temperaturas finales son: [282.5, 284.5, 282.2, 301.7, 302.5, 302.5]\n",
      "h_f es_ [36, 36, 36, 36, 36, 36]\n"
     ]
    }
   ],
   "source": [
    "# Condiciones iniciales y de borde\n",
    "p_i = [0.033, 0.033, 0.033, 0.032, 0.049, 0.032] #MPa\n",
    "T_i = [281, 282, 280.2, 301.5, 302, 302.4] #K \n",
    "T_f = [282.5, 284.5, 282.2, 301.7, 302.5, 302.5] #K\n",
    "h_f = [36, 36, 36, 36, 36, 36]\n",
    "print(f'Las presiones inciales son: {p_i}\\nLas Temperaturas inciales son: {T_i}\\nLas temperaturas finales son: {T_f}\\nh_f es_ {h_f}')"
   ]
  },
  {
   "attachments": {},
   "cell_type": "markdown",
   "metadata": {},
   "source": [
    "### Modelo de adsorcion"
   ]
  },
  {
   "cell_type": "code",
   "execution_count": 10,
   "metadata": {},
   "outputs": [],
   "source": [
    "def modified_dubinin_astakhov(n_0, R, T, alpha, beta, b, p_0, p):\n",
    "    n_a = n_0 * np.exp(-((R*T)/(alpha + beta*T))**b * np.log(p_0/p)**b)\n",
    "    return n_a\n",
    "\n",
    "def calor_isoterico_adsorcion(alpha, n_0, n, b):\n",
    "    delH = alpha * (np.log(n_0/n)**(1/b))\n",
    "    return delH"
   ]
  },
  {
   "attachments": {},
   "cell_type": "markdown",
   "metadata": {},
   "source": [
    "### Balance de masa\n",
    "La ecuacion que gobierna el balance de masa es:\n",
    "$$\n",
    "\\frac{d\\dot{m}_t}{dt} = \\dot{m}_i - \\dot{m}_f \n",
    "$$\n",
    "En el caso del periodo de carga la ecuación se simplifica a: \n",
    "$$\n",
    "\\frac{d\\dot{m}_t}{dt} = \\dot{m}_i\n",
    "$$\n",
    "Y para el periodo de descarga la ecuación se simplifica a: \n",
    "$$\\frac{d\\dot{m}_t}{dt} = \\dot{m}_f\n",
    "$$\n",
    "\n",
    "##### Masa total\n",
    "$$m_t = m_g + m_a $$\n",
    "\n",
    "##### Masa hidrógeno es fase adsorbida\n",
    "$$m_a = n_a M_{H_2} m_s $$"
   ]
  },
  {
   "cell_type": "code",
   "execution_count": null,
   "metadata": {},
   "outputs": [],
   "source": [
    "# Fase adsorbida"
   ]
  },
  {
   "attachments": {},
   "cell_type": "markdown",
   "metadata": {},
   "source": [
    "### Balance de Energia\n",
    "La ecuacion que gobierna el balance de energia es:\n",
    "$$\n",
    "\\frac{d}{dt}\\left[(m_sc_s + m_ac_{va} + m_gc_{vg} + m_wc_w)T\\right] = \\dot{m}_i h_i - \\dot{m}_e h_e + \\frac{dm_a}{dt}\\frac{\\Delta{H}}{M_{H_2}} - h_fA_e(T-T_f)\n",
    "$$"
   ]
  },
  {
   "cell_type": "markdown",
   "metadata": {},
   "source": []
  }
 ],
 "metadata": {
  "kernelspec": {
   "display_name": "Python 3",
   "language": "python",
   "name": "python3"
  },
  "language_info": {
   "codemirror_mode": {
    "name": "ipython",
    "version": 3
   },
   "file_extension": ".py",
   "mimetype": "text/x-python",
   "name": "python",
   "nbconvert_exporter": "python",
   "pygments_lexer": "ipython3",
   "version": "3.10.6"
  },
  "orig_nbformat": 4,
  "vscode": {
   "interpreter": {
    "hash": "620eb4ed2007402b8563cffe8a138559637e3ee9804a716022abebb97e63d62a"
   }
  }
 },
 "nbformat": 4,
 "nbformat_minor": 2
}

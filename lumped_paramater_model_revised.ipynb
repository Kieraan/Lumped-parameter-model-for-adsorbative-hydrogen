{
 "cells": [
  {
   "cell_type": "code",
   "execution_count": 4,
   "metadata": {},
   "outputs": [],
   "source": [
    "# Integración numérica de sistemas de ecuaciones diferenciales ordinarias\n",
    "from scipy.integrate import solve_ivp\n",
    "\n",
    "# Minimización de funciones objetivos para ajuste de parámetros\n",
    "from scipy.optimize import least_squares\n",
    "import numpy as np\n",
    "import matplotlib.pyplot as plt\n",
    "import copy"
   ]
  },
  {
   "attachments": {},
   "cell_type": "markdown",
   "metadata": {},
   "source": [
    "#### Definición sistema de ecuaciones diferenciales"
   ]
  },
  {
   "cell_type": "code",
   "execution_count": 5,
   "metadata": {},
   "outputs": [],
   "source": [
    "# Función que es entregada a solve_ivp para resolver el modelo, se le entregara un BOOLEANO\n",
    "# Para determinar si es carga o descarga\n",
    "def adsorcion_hidrogeno(t, y, c_s, c_p, c_w, m_s, m_w, M_H2, R, alpha, beta, epsilon, volumen, area, p_0,n_0, b, m_dot, h, h_f, T_f, charge):\n",
    "    \n",
    "    if charge:\n",
    "        print(f'Simulando proceso de carga\\n--------------------------')\n",
    "    \n",
    "    # Desempacar variables:\n",
    "    m_t = y[0]\n",
    "    T = y[1]\n",
    "    \n",
    "    # Calcular Variables dependientes de las variables independientes\n",
    "    p = 0.033*10e6 # Presión inicial (Pa) para test No. 13\n",
    "    \n",
    "    for i in range(10):\n",
    "        # Calcular varias veces las variables\n",
    "        # Moles de hidrógeno adsorbido\n",
    "        n_a = n_0 * np.exp(-((R*T)/(alpha+beta*T))**b * np.log(p_0/p)**b)\n",
    "        \n",
    "        # Masa\n",
    "        m_a = n_a*M_H2*m_s\n",
    "        m_g = m_t - m_a\n",
    "        \n",
    "        # Presión\n",
    "        p = (m_g*R*T)/(M_H2*volumen*epsilon)\n",
    "    \n",
    "    # Calor esostérico\n",
    "    dH = alpha * (np.log(p_0/p))**(1/b)\n",
    "    \n",
    "    print(f'm_a: {m_a}\\nm_g: {m_g}')\n",
    "\n",
    "    # ECUACIONES DIFERENCIALES\n",
    "    # Ecuación diferencial de masa total\n",
    "    if charge:\n",
    "        dm_dt = m_dot\n",
    "    elif not charge:\n",
    "        dm_dt = -m_dot\n",
    "        \n",
    "    # Ecuación diferencial de temperatura\n",
    "    if charge:\n",
    "        dT_dt = (m_dot*h + dm_dt*(dH/M_H2) - h_f*area*(T-T_f))/(m_s*c_s + m_a*c_p + m_g*c_p + m_w*c_w)\n",
    "    elif not charge:\n",
    "        dT_dt = (-m_dot*h + dm_dt*(dH/M_H2) - h_f*area*(T-T_f))/(m_s*c_s + m_a*c_p + m_g*c_p + m_w*c_w)\n",
    "    \n",
    "    # Empacar el vector del lado derecho en un vector 2x1\n",
    "    dy = np.array([dm_dt, dT_dt])\n",
    "    \n",
    "    return dy\n"
   ]
  },
  {
   "attachments": {},
   "cell_type": "markdown",
   "metadata": {},
   "source": [
    "#### Parametros, condiciones y solve_ivp"
   ]
  },
  {
   "cell_type": "code",
   "execution_count": 6,
   "metadata": {},
   "outputs": [
    {
     "name": "stdout",
     "output_type": "stream",
     "text": [
      "---Condiciones iniciales---\n",
      "n_a0 = 0.010\n",
      "La presión incial es: 33000.0\n",
      "La temperatura incial es: 281.0\n",
      "La temperatura final es: 282.5\n",
      "h_f es: 36\n",
      "---Fin CI---\n",
      "\n",
      "Simulando proceso de carga\n",
      "--------------------------\n",
      "m_a: nan\n",
      "m_g: nan\n",
      "Simulando proceso de carga\n",
      "--------------------------\n",
      "m_a: nan\n",
      "m_g: nan\n",
      "Simulando proceso de carga\n",
      "--------------------------\n",
      "m_a: nan\n",
      "m_g: nan\n",
      "Simulando proceso de carga\n",
      "--------------------------\n",
      "m_a: nan\n",
      "m_g: nan\n",
      "Simulando proceso de carga\n",
      "--------------------------\n",
      "m_a: nan\n",
      "m_g: nan\n"
     ]
    },
    {
     "name": "stderr",
     "output_type": "stream",
     "text": [
      "C:\\Users\\kiera\\AppData\\Local\\Temp\\ipykernel_13636\\516437664.py:18: RuntimeWarning: invalid value encountered in log\n",
      "  n_a = n_0 * np.exp(-((R*T)/(alpha+beta*T))**b * np.log(p_0/p)**b)\n"
     ]
    },
    {
     "ename": "ValueError",
     "evalue": "array must not contain infs or NaNs",
     "output_type": "error",
     "traceback": [
      "\u001b[1;31m---------------------------------------------------------------------------\u001b[0m",
      "\u001b[1;31mValueError\u001b[0m                                Traceback (most recent call last)",
      "\u001b[1;32mc:\\Users\\kiera\\Documents\\_Universidad\\adsorción_hidrógeno_verde\\Lumped-parameter-model-for-adsorbative-hydrogen\\lumped_paramater_model_revised.ipynb Cell 5\u001b[0m in \u001b[0;36m<cell line: 71>\u001b[1;34m()\u001b[0m\n\u001b[0;32m     <a href='vscode-notebook-cell:/c%3A/Users/kiera/Documents/_Universidad/adsorci%C3%B3n_hidr%C3%B3geno_verde/Lumped-parameter-model-for-adsorbative-hydrogen/lumped_paramater_model_revised.ipynb#W4sZmlsZQ%3D%3D?line=66'>67</a>\u001b[0m args \u001b[39m=\u001b[39m (c_s, c_p, c_w, m_s, m_w, M_H2, R, alpha, beta, epsilon_b, V, A_e, p_0, n_0, b, m_dot, h, h_f, T_f, charge)\n\u001b[0;32m     <a href='vscode-notebook-cell:/c%3A/Users/kiera/Documents/_Universidad/adsorci%C3%B3n_hidr%C3%B3geno_verde/Lumped-parameter-model-for-adsorbative-hydrogen/lumped_paramater_model_revised.ipynb#W4sZmlsZQ%3D%3D?line=68'>69</a>\u001b[0m \u001b[39m# En ingeniería química, sobre todo cuando hay reacciones o cambio de fases, se generan sistemas ultraestables\u001b[39;00m\n\u001b[0;32m     <a href='vscode-notebook-cell:/c%3A/Users/kiera/Documents/_Universidad/adsorci%C3%B3n_hidr%C3%B3geno_verde/Lumped-parameter-model-for-adsorbative-hydrogen/lumped_paramater_model_revised.ipynb#W4sZmlsZQ%3D%3D?line=69'>70</a>\u001b[0m \u001b[39m# (ultrastiff) no conviene utilizar métodos explícitos. \u001b[39;00m\n\u001b[1;32m---> <a href='vscode-notebook-cell:/c%3A/Users/kiera/Documents/_Universidad/adsorci%C3%B3n_hidr%C3%B3geno_verde/Lumped-parameter-model-for-adsorbative-hydrogen/lumped_paramater_model_revised.ipynb#W4sZmlsZQ%3D%3D?line=70'>71</a>\u001b[0m sol \u001b[39m=\u001b[39m solve_ivp(adsorcion_hidrogeno, (t_0, t_f), [\u001b[39m0\u001b[39;49m, T_i], args\u001b[39m=\u001b[39;49margs, t_eval\u001b[39m=\u001b[39;49m t_range, method \u001b[39m=\u001b[39;49m \u001b[39m'\u001b[39;49m\u001b[39mBDF\u001b[39;49m\u001b[39m'\u001b[39;49m)\n",
      "File \u001b[1;32mc:\\Users\\kiera\\AppData\\Local\\Programs\\Python\\Python310\\lib\\site-packages\\scipy\\integrate\\_ivp\\ivp.py:589\u001b[0m, in \u001b[0;36msolve_ivp\u001b[1;34m(fun, t_span, y0, method, t_eval, dense_output, events, vectorized, args, **options)\u001b[0m\n\u001b[0;32m    587\u001b[0m status \u001b[39m=\u001b[39m \u001b[39mNone\u001b[39;00m\n\u001b[0;32m    588\u001b[0m \u001b[39mwhile\u001b[39;00m status \u001b[39mis\u001b[39;00m \u001b[39mNone\u001b[39;00m:\n\u001b[1;32m--> 589\u001b[0m     message \u001b[39m=\u001b[39m solver\u001b[39m.\u001b[39;49mstep()\n\u001b[0;32m    591\u001b[0m     \u001b[39mif\u001b[39;00m solver\u001b[39m.\u001b[39mstatus \u001b[39m==\u001b[39m \u001b[39m'\u001b[39m\u001b[39mfinished\u001b[39m\u001b[39m'\u001b[39m:\n\u001b[0;32m    592\u001b[0m         status \u001b[39m=\u001b[39m \u001b[39m0\u001b[39m\n",
      "File \u001b[1;32mc:\\Users\\kiera\\AppData\\Local\\Programs\\Python\\Python310\\lib\\site-packages\\scipy\\integrate\\_ivp\\base.py:181\u001b[0m, in \u001b[0;36mOdeSolver.step\u001b[1;34m(self)\u001b[0m\n\u001b[0;32m    179\u001b[0m \u001b[39melse\u001b[39;00m:\n\u001b[0;32m    180\u001b[0m     t \u001b[39m=\u001b[39m \u001b[39mself\u001b[39m\u001b[39m.\u001b[39mt\n\u001b[1;32m--> 181\u001b[0m     success, message \u001b[39m=\u001b[39m \u001b[39mself\u001b[39;49m\u001b[39m.\u001b[39;49m_step_impl()\n\u001b[0;32m    183\u001b[0m     \u001b[39mif\u001b[39;00m \u001b[39mnot\u001b[39;00m success:\n\u001b[0;32m    184\u001b[0m         \u001b[39mself\u001b[39m\u001b[39m.\u001b[39mstatus \u001b[39m=\u001b[39m \u001b[39m'\u001b[39m\u001b[39mfailed\u001b[39m\u001b[39m'\u001b[39m\n",
      "File \u001b[1;32mc:\\Users\\kiera\\AppData\\Local\\Programs\\Python\\Python310\\lib\\site-packages\\scipy\\integrate\\_ivp\\bdf.py:355\u001b[0m, in \u001b[0;36mBDF._step_impl\u001b[1;34m(self)\u001b[0m\n\u001b[0;32m    353\u001b[0m \u001b[39mwhile\u001b[39;00m \u001b[39mnot\u001b[39;00m converged:\n\u001b[0;32m    354\u001b[0m     \u001b[39mif\u001b[39;00m LU \u001b[39mis\u001b[39;00m \u001b[39mNone\u001b[39;00m:\n\u001b[1;32m--> 355\u001b[0m         LU \u001b[39m=\u001b[39m \u001b[39mself\u001b[39;49m\u001b[39m.\u001b[39;49mlu(\u001b[39mself\u001b[39;49m\u001b[39m.\u001b[39;49mI \u001b[39m-\u001b[39;49m c \u001b[39m*\u001b[39;49m J)\n\u001b[0;32m    357\u001b[0m     converged, n_iter, y_new, d \u001b[39m=\u001b[39m solve_bdf_system(\n\u001b[0;32m    358\u001b[0m         \u001b[39mself\u001b[39m\u001b[39m.\u001b[39mfun, t_new, y_predict, c, psi, LU, \u001b[39mself\u001b[39m\u001b[39m.\u001b[39msolve_lu,\n\u001b[0;32m    359\u001b[0m         scale, \u001b[39mself\u001b[39m\u001b[39m.\u001b[39mnewton_tol)\n\u001b[0;32m    361\u001b[0m     \u001b[39mif\u001b[39;00m \u001b[39mnot\u001b[39;00m converged:\n",
      "File \u001b[1;32mc:\\Users\\kiera\\AppData\\Local\\Programs\\Python\\Python310\\lib\\site-packages\\scipy\\integrate\\_ivp\\bdf.py:222\u001b[0m, in \u001b[0;36mBDF.__init__.<locals>.lu\u001b[1;34m(A)\u001b[0m\n\u001b[0;32m    220\u001b[0m \u001b[39mdef\u001b[39;00m \u001b[39mlu\u001b[39m(A):\n\u001b[0;32m    221\u001b[0m     \u001b[39mself\u001b[39m\u001b[39m.\u001b[39mnlu \u001b[39m+\u001b[39m\u001b[39m=\u001b[39m \u001b[39m1\u001b[39m\n\u001b[1;32m--> 222\u001b[0m     \u001b[39mreturn\u001b[39;00m lu_factor(A, overwrite_a\u001b[39m=\u001b[39;49m\u001b[39mTrue\u001b[39;49;00m)\n",
      "File \u001b[1;32mc:\\Users\\kiera\\AppData\\Local\\Programs\\Python\\Python310\\lib\\site-packages\\scipy\\linalg\\_decomp_lu.py:70\u001b[0m, in \u001b[0;36mlu_factor\u001b[1;34m(a, overwrite_a, check_finite)\u001b[0m\n\u001b[0;32m     16\u001b[0m \u001b[39m\"\"\"\u001b[39;00m\n\u001b[0;32m     17\u001b[0m \u001b[39mCompute pivoted LU decomposition of a matrix.\u001b[39;00m\n\u001b[0;32m     18\u001b[0m \n\u001b[1;32m   (...)\u001b[0m\n\u001b[0;32m     67\u001b[0m \u001b[39mTrue\u001b[39;00m\n\u001b[0;32m     68\u001b[0m \u001b[39m\"\"\"\u001b[39;00m\n\u001b[0;32m     69\u001b[0m \u001b[39mif\u001b[39;00m check_finite:\n\u001b[1;32m---> 70\u001b[0m     a1 \u001b[39m=\u001b[39m asarray_chkfinite(a)\n\u001b[0;32m     71\u001b[0m \u001b[39melse\u001b[39;00m:\n\u001b[0;32m     72\u001b[0m     a1 \u001b[39m=\u001b[39m asarray(a)\n",
      "File \u001b[1;32mc:\\Users\\kiera\\AppData\\Local\\Programs\\Python\\Python310\\lib\\site-packages\\numpy\\lib\\function_base.py:627\u001b[0m, in \u001b[0;36masarray_chkfinite\u001b[1;34m(a, dtype, order)\u001b[0m\n\u001b[0;32m    625\u001b[0m a \u001b[39m=\u001b[39m asarray(a, dtype\u001b[39m=\u001b[39mdtype, order\u001b[39m=\u001b[39morder)\n\u001b[0;32m    626\u001b[0m \u001b[39mif\u001b[39;00m a\u001b[39m.\u001b[39mdtype\u001b[39m.\u001b[39mchar \u001b[39min\u001b[39;00m typecodes[\u001b[39m'\u001b[39m\u001b[39mAllFloat\u001b[39m\u001b[39m'\u001b[39m] \u001b[39mand\u001b[39;00m \u001b[39mnot\u001b[39;00m np\u001b[39m.\u001b[39misfinite(a)\u001b[39m.\u001b[39mall():\n\u001b[1;32m--> 627\u001b[0m     \u001b[39mraise\u001b[39;00m \u001b[39mValueError\u001b[39;00m(\n\u001b[0;32m    628\u001b[0m         \u001b[39m\"\u001b[39m\u001b[39marray must not contain infs or NaNs\u001b[39m\u001b[39m\"\u001b[39m)\n\u001b[0;32m    629\u001b[0m \u001b[39mreturn\u001b[39;00m a\n",
      "\u001b[1;31mValueError\u001b[0m: array must not contain infs or NaNs"
     ]
    }
   ],
   "source": [
    "# PARAMETROS\n",
    "# Calores especificos\n",
    "c_s = 825 # Calor especifico del carbón activado (J kg-1 K-1)\n",
    "c_p = 10167 # Calor especifico del hidrogeno (J kg-1 K-1)\n",
    "c_w = 468 # Calor especifico paredes de acero (J kg-1 K-1)\n",
    "\n",
    "# K: Originalmente estaba dado en J, por eso el /1000\n",
    "# F: Sugerencia: ocupar unidades SI lo más posible\n",
    "\n",
    "# Masas\n",
    "m_s = 0.671 # masa carbón activado (kg)\n",
    "m_w = 3.714 # Masa paredes de acero (kg)\n",
    "M_H2 = 2.0159E-3 # Masa molar del hidregeno (kg mol-1)\n",
    "\n",
    "# Constantes \n",
    "R = 8.314 # J mol-1 K-1\n",
    "alpha = 3080 # Factor entalpico (J mol-1)\n",
    "beta = 18.9 # Factor entropico (J mol-1 K-1)\n",
    "epsilon_b = 0.49 \n",
    "b = 2\n",
    "\n",
    "# Dimensiones estanque\n",
    "V = 2.4946*1e-3 # Volumen de estanque (m^3)\n",
    "A_e = 0.1277 # Área superficial estanque m^2\n",
    "\n",
    "# Otros\n",
    "p_0 = 1470 * 1e6 # Presion de saturacion (Pa)\n",
    "n_0 = 71.6 # Cantidad limite de adsorcion (mol kg-1)\n",
    "\n",
    "\n",
    "# CONDICIONES DE BORDE\n",
    "p_i = np.array([0.033, 0.033, 0.033, 0.032, 0.049, 0.032])*1e6 #Pa\n",
    "T_i = np.array([281, 282, 280.2, 301.5, 302, 302.4]) #K \n",
    "T_f = np.array([282.5, 284.5, 282.2, 301.7, 302.5, 302.5]) #K\n",
    "h_f = np.array([36, 36, 36, 36, 36, 36]) # W m^-2 K^-1\n",
    "\n",
    "# Seleccionar los valores del test deseado\n",
    "p_i = p_i[0]\n",
    "T_i = T_i[0]\n",
    "T_f = T_f[0]\n",
    "h_f = h_f[0]\n",
    "\n",
    "# Número de moles adsorbido en t = 0\n",
    "n_a0 = n_0 * np.exp(- (R*T_i/(alpha + beta*T_i))**b * np.log(p_0/p_i)**b )\n",
    "# n_a0 = 1e-6\n",
    "\n",
    "print(\"---Condiciones iniciales---\")\n",
    "print(\"n_a0 = %.3f\" % n_a0)\n",
    "print(f'La presión incial es: {p_i}\\nLa temperatura incial es: {T_i}\\nLa temperatura final es: {T_f}\\nh_f es: {h_f}')\n",
    "print(\"---Fin CI---\\n\")\n",
    "\n",
    "\n",
    "# PARAMETROS EN CARGA/DESCARGA\n",
    "# Carga o descarga?\n",
    "charge = True\n",
    "\n",
    "# Por ahora solo se usara test No. 13\n",
    "t_0 =  0            # s\n",
    "t_f = 1042          # s\n",
    "t_range = np.linspace(t_0, t_f, 1000000)\n",
    "\n",
    "m_dot = 2.023e-5        # kg s-1\n",
    "# Aparentemente calor de \n",
    "h = 3986.8          # J/kg aparentemente mal en el paper\n",
    "\n",
    "# Tupla de parametros que se deben pasar a solve_ivp\n",
    "args = (c_s, c_p, c_w, m_s, m_w, M_H2, R, alpha, beta, epsilon_b, V, A_e, p_0, n_0, b, m_dot, h, h_f, T_f, charge)\n",
    "\n",
    "# En ingeniería química, sobre todo cuando hay reacciones o cambio de fases, se generan sistemas ultraestables\n",
    "# (ultrastiff) no conviene utilizar métodos explícitos. \n",
    "sol = solve_ivp(adsorcion_hidrogeno, (t_0, t_f), [0, T_i], args=args, t_eval= t_range, method = 'BDF')"
   ]
  }
 ],
 "metadata": {
  "kernelspec": {
   "display_name": "Python 3",
   "language": "python",
   "name": "python3"
  },
  "language_info": {
   "codemirror_mode": {
    "name": "ipython",
    "version": 3
   },
   "file_extension": ".py",
   "mimetype": "text/x-python",
   "name": "python",
   "nbconvert_exporter": "python",
   "pygments_lexer": "ipython3",
   "version": "3.10.6"
  },
  "orig_nbformat": 4,
  "vscode": {
   "interpreter": {
    "hash": "620eb4ed2007402b8563cffe8a138559637e3ee9804a716022abebb97e63d62a"
   }
  }
 },
 "nbformat": 4,
 "nbformat_minor": 2
}

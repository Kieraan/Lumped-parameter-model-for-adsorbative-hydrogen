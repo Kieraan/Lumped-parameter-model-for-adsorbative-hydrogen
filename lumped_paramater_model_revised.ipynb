{
 "cells": [
  {
   "cell_type": "code",
   "execution_count": null,
   "metadata": {},
   "outputs": [],
   "source": [
    "# Integración numérica de sistemas de ecuaciones diferenciales ordinarias\n",
    "from scipy.integrate import solve_ivp\n",
    "\n",
    "# Minimización de funciones objetivos para ajuste de parámetros\n",
    "from scipy.optimize import least_squares\n",
    "import numpy as np\n",
    "import matplotlib.pyplot as plt\n",
    "import copy"
   ]
  },
  {
   "attachments": {},
   "cell_type": "markdown",
   "metadata": {},
   "source": [
    "#### Definición sistema de ecuaciones diferenciales"
   ]
  },
  {
   "cell_type": "code",
   "execution_count": null,
   "metadata": {},
   "outputs": [],
   "source": [
    "def adsorcion_hidrogeno(t, y, c_s, c_p, c_w, m_s, m_w, M_H2, R, alpha, beta, epsilon, volumen, area, p_0,n_0, b, m_dot, h, h_f, T_f):\n",
    "    \n",
    "    # Desempacar variables:\n",
    "    m_t = y[0]\n",
    "    T = y[1]\n",
    "    \n",
    "    # Calcular Variables dependientes de las variables independientes\n",
    "    # Moles de hidrógeno adsorbido\n",
    "    n_a = n_0 * np.exp(-((R*T)/(alpha+beta*T))**b * np.log(p_0/p)**b)\n",
    "    \n",
    "    # Masa\n",
    "    m_a = n_a*M_H2*m_s\n",
    "    m_g = m_t - m_a\n",
    "    \n",
    "    # Presión\n",
    "    p = (m_g*R*T)/(M_H2*volumen*epsilon)\n",
    "    \n",
    "    # Calor esostérico\n",
    "    dH = alpha * (np.log(p_0/p))**(1/b)\n",
    "\n"
   ]
  }
 ],
 "metadata": {
  "language_info": {
   "name": "python"
  },
  "orig_nbformat": 4
 },
 "nbformat": 4,
 "nbformat_minor": 2
}

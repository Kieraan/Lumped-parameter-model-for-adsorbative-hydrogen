{
 "cells": [
  {
   "cell_type": "code",
   "execution_count": 7,
   "metadata": {},
   "outputs": [],
   "source": [
    "# Integración numérica de sistemas de ecuaciones diferenciales ordinarias\n",
    "from scipy.integrate import solve_ivp\n",
    "\n",
    "# Minimización de funciones objetivos para ajuste de parámetros\n",
    "from scipy.optimize import least_squares\n",
    "import numpy as np\n",
    "import matplotlib.pyplot as plt\n",
    "import copy"
   ]
  },
  {
   "attachments": {},
   "cell_type": "markdown",
   "metadata": {},
   "source": [
    "#### Definición sistema de ecuaciones diferenciales"
   ]
  },
  {
   "cell_type": "code",
   "execution_count": 8,
   "metadata": {},
   "outputs": [],
   "source": [
    "# Función que es entregada a solve_ivp para resolver el modelo, se le entregara un BOOLEANO\n",
    "# Para determinar si es carga o descarga\n",
    "def adsorcion_hidrogeno(t, y, c_s, c_p, c_w, m_s, m_w, M_H2, R, alpha, beta, epsilon, volumen, area, p_0,n_0, b, m_dot, h, h_f, T_f, charge):\n",
    "    \n",
    "    if charge:\n",
    "        print(f'Simulando proceso de carga\\n--------------------------')\n",
    "    \n",
    "    # Desempacar variables:\n",
    "    m_t = y[0]\n",
    "    T = y[1]\n",
    "    \n",
    "    # Calcular Variables dependientes de las variables independientes\n",
    "    # Moles de hidrógeno adsorbido\n",
    "    n_a = n_0 * np.exp(-((R*T)/(alpha+beta*T))**b * np.log(p_0/p)**b)\n",
    "    \n",
    "    # Masa\n",
    "    m_a = n_a*M_H2*m_s\n",
    "    m_g = m_t - m_a\n",
    "    \n",
    "    # Presión\n",
    "    p = (m_g*R*T)/(M_H2*volumen*epsilon)\n",
    "    \n",
    "    # Calor esostérico\n",
    "    dH = alpha * (np.log(p_0/p))**(1/b)\n",
    "\n",
    "    # ECUACIONES DIFERENCIALES\n",
    "    # Ecuación diferencial de masa total\n",
    "    if charge:\n",
    "        dm_dt = m_dot\n",
    "    elif not charge:\n",
    "        dm_dt = -m_dot\n",
    "        \n",
    "    # Ecuación diferencial de temperatura\n",
    "    if charge:\n",
    "        dT_dt = (m_dot*h + dm_dt*(dH/M_H2) - h_f*area*(T-T_f))/(m_s*c_s + m_a*c_p + m_g*c_p + m_w*c_w)\n",
    "    elif not charge:\n",
    "        dT_dt = (-m_dot*h + dm_dt*(dH/M_H2) - h_f*area*(T-T_f))/(m_s*c_s + m_a*c_p + m_g*c_p + m_w*c_w)\n",
    "    \n",
    "    # Empacar el vector del lado derecho en un vector 2x1\n",
    "    dy = np.array([dm_dt, dT_dt])\n",
    "    \n",
    "    return dy\n"
   ]
  },
  {
   "attachments": {},
   "cell_type": "markdown",
   "metadata": {},
   "source": [
    "#### Parametros, condiciones y solve_ivp"
   ]
  },
  {
   "cell_type": "code",
   "execution_count": 9,
   "metadata": {},
   "outputs": [
    {
     "name": "stdout",
     "output_type": "stream",
     "text": [
      "---Condiciones iniciales---\n",
      "n_a0 = 0.010\n",
      "La presión incial es: 33000.0\n",
      "La temperatura incial es: 281.0\n",
      "La temperatura final es: 282.5\n",
      "h_f es: 36\n",
      "---Fin CI---\n",
      "\n",
      "Simulando proceso de carga\n",
      "--------------------------\n"
     ]
    },
    {
     "ename": "UnboundLocalError",
     "evalue": "local variable 'p' referenced before assignment",
     "output_type": "error",
     "traceback": [
      "\u001b[1;31m---------------------------------------------------------------------------\u001b[0m",
      "\u001b[1;31mUnboundLocalError\u001b[0m                         Traceback (most recent call last)",
      "\u001b[1;32mc:\\Users\\kiera\\Documents\\_Universidad\\adsorción_hidrógeno_verde\\Lumped-parameter-model-for-adsorbative-hydrogen\\lumped_paramater_model_revised.ipynb Cell 5\u001b[0m in \u001b[0;36m<cell line: 71>\u001b[1;34m()\u001b[0m\n\u001b[0;32m     <a href='vscode-notebook-cell:/c%3A/Users/kiera/Documents/_Universidad/adsorci%C3%B3n_hidr%C3%B3geno_verde/Lumped-parameter-model-for-adsorbative-hydrogen/lumped_paramater_model_revised.ipynb#W4sZmlsZQ%3D%3D?line=66'>67</a>\u001b[0m args \u001b[39m=\u001b[39m (c_s, c_p, c_w, m_s, m_w, M_H2, R, alpha, beta, epsilon_b, V, A_e, p_0, n_0, b, m_dot, h, h_f, T_f, charge)\n\u001b[0;32m     <a href='vscode-notebook-cell:/c%3A/Users/kiera/Documents/_Universidad/adsorci%C3%B3n_hidr%C3%B3geno_verde/Lumped-parameter-model-for-adsorbative-hydrogen/lumped_paramater_model_revised.ipynb#W4sZmlsZQ%3D%3D?line=68'>69</a>\u001b[0m \u001b[39m# En ingeniería química, sobre todo cuando hay reacciones o cambio de fases, se generan sistemas ultraestables\u001b[39;00m\n\u001b[0;32m     <a href='vscode-notebook-cell:/c%3A/Users/kiera/Documents/_Universidad/adsorci%C3%B3n_hidr%C3%B3geno_verde/Lumped-parameter-model-for-adsorbative-hydrogen/lumped_paramater_model_revised.ipynb#W4sZmlsZQ%3D%3D?line=69'>70</a>\u001b[0m \u001b[39m# (ultrastiff) no conviene utilizar métodos explícitos. \u001b[39;00m\n\u001b[1;32m---> <a href='vscode-notebook-cell:/c%3A/Users/kiera/Documents/_Universidad/adsorci%C3%B3n_hidr%C3%B3geno_verde/Lumped-parameter-model-for-adsorbative-hydrogen/lumped_paramater_model_revised.ipynb#W4sZmlsZQ%3D%3D?line=70'>71</a>\u001b[0m sol \u001b[39m=\u001b[39m solve_ivp(adsorcion_hidrogeno, (t_0, t_f), [n_a0, T_i, p_i], args\u001b[39m=\u001b[39;49margs, t_eval\u001b[39m=\u001b[39;49m t_range, method \u001b[39m=\u001b[39;49m \u001b[39m'\u001b[39;49m\u001b[39mBDF\u001b[39;49m\u001b[39m'\u001b[39;49m)\n",
      "File \u001b[1;32mc:\\Users\\kiera\\AppData\\Local\\Programs\\Python\\Python310\\lib\\site-packages\\scipy\\integrate\\_ivp\\ivp.py:555\u001b[0m, in \u001b[0;36msolve_ivp\u001b[1;34m(fun, t_span, y0, method, t_eval, dense_output, events, vectorized, args, **options)\u001b[0m\n\u001b[0;32m    552\u001b[0m \u001b[39mif\u001b[39;00m method \u001b[39min\u001b[39;00m METHODS:\n\u001b[0;32m    553\u001b[0m     method \u001b[39m=\u001b[39m METHODS[method]\n\u001b[1;32m--> 555\u001b[0m solver \u001b[39m=\u001b[39m method(fun, t0, y0, tf, vectorized\u001b[39m=\u001b[39mvectorized, \u001b[39m*\u001b[39m\u001b[39m*\u001b[39moptions)\n\u001b[0;32m    557\u001b[0m \u001b[39mif\u001b[39;00m t_eval \u001b[39mis\u001b[39;00m \u001b[39mNone\u001b[39;00m:\n\u001b[0;32m    558\u001b[0m     ts \u001b[39m=\u001b[39m [t0]\n",
      "File \u001b[1;32mc:\\Users\\kiera\\AppData\\Local\\Programs\\Python\\Python310\\lib\\site-packages\\scipy\\integrate\\_ivp\\bdf.py:196\u001b[0m, in \u001b[0;36mBDF.__init__\u001b[1;34m(self, fun, t0, y0, t_bound, max_step, rtol, atol, jac, jac_sparsity, vectorized, first_step, **extraneous)\u001b[0m\n\u001b[0;32m    194\u001b[0m \u001b[39mself\u001b[39m\u001b[39m.\u001b[39mmax_step \u001b[39m=\u001b[39m validate_max_step(max_step)\n\u001b[0;32m    195\u001b[0m \u001b[39mself\u001b[39m\u001b[39m.\u001b[39mrtol, \u001b[39mself\u001b[39m\u001b[39m.\u001b[39matol \u001b[39m=\u001b[39m validate_tol(rtol, atol, \u001b[39mself\u001b[39m\u001b[39m.\u001b[39mn)\n\u001b[1;32m--> 196\u001b[0m f \u001b[39m=\u001b[39m \u001b[39mself\u001b[39;49m\u001b[39m.\u001b[39;49mfun(\u001b[39mself\u001b[39;49m\u001b[39m.\u001b[39;49mt, \u001b[39mself\u001b[39;49m\u001b[39m.\u001b[39;49my)\n\u001b[0;32m    197\u001b[0m \u001b[39mif\u001b[39;00m first_step \u001b[39mis\u001b[39;00m \u001b[39mNone\u001b[39;00m:\n\u001b[0;32m    198\u001b[0m     \u001b[39mself\u001b[39m\u001b[39m.\u001b[39mh_abs \u001b[39m=\u001b[39m select_initial_step(\u001b[39mself\u001b[39m\u001b[39m.\u001b[39mfun, \u001b[39mself\u001b[39m\u001b[39m.\u001b[39mt, \u001b[39mself\u001b[39m\u001b[39m.\u001b[39my, f,\n\u001b[0;32m    199\u001b[0m                                      \u001b[39mself\u001b[39m\u001b[39m.\u001b[39mdirection, \u001b[39m1\u001b[39m,\n\u001b[0;32m    200\u001b[0m                                      \u001b[39mself\u001b[39m\u001b[39m.\u001b[39mrtol, \u001b[39mself\u001b[39m\u001b[39m.\u001b[39matol)\n",
      "File \u001b[1;32mc:\\Users\\kiera\\AppData\\Local\\Programs\\Python\\Python310\\lib\\site-packages\\scipy\\integrate\\_ivp\\base.py:138\u001b[0m, in \u001b[0;36mOdeSolver.__init__.<locals>.fun\u001b[1;34m(t, y)\u001b[0m\n\u001b[0;32m    136\u001b[0m \u001b[39mdef\u001b[39;00m \u001b[39mfun\u001b[39m(t, y):\n\u001b[0;32m    137\u001b[0m     \u001b[39mself\u001b[39m\u001b[39m.\u001b[39mnfev \u001b[39m+\u001b[39m\u001b[39m=\u001b[39m \u001b[39m1\u001b[39m\n\u001b[1;32m--> 138\u001b[0m     \u001b[39mreturn\u001b[39;00m \u001b[39mself\u001b[39;49m\u001b[39m.\u001b[39;49mfun_single(t, y)\n",
      "File \u001b[1;32mc:\\Users\\kiera\\AppData\\Local\\Programs\\Python\\Python310\\lib\\site-packages\\scipy\\integrate\\_ivp\\base.py:20\u001b[0m, in \u001b[0;36mcheck_arguments.<locals>.fun_wrapped\u001b[1;34m(t, y)\u001b[0m\n\u001b[0;32m     19\u001b[0m \u001b[39mdef\u001b[39;00m \u001b[39mfun_wrapped\u001b[39m(t, y):\n\u001b[1;32m---> 20\u001b[0m     \u001b[39mreturn\u001b[39;00m np\u001b[39m.\u001b[39masarray(fun(t, y), dtype\u001b[39m=\u001b[39mdtype)\n",
      "File \u001b[1;32mc:\\Users\\kiera\\AppData\\Local\\Programs\\Python\\Python310\\lib\\site-packages\\scipy\\integrate\\_ivp\\ivp.py:527\u001b[0m, in \u001b[0;36msolve_ivp.<locals>.<lambda>\u001b[1;34m(t, x, fun)\u001b[0m\n\u001b[0;32m    521\u001b[0m     suggestion_tuple \u001b[39m=\u001b[39m (\n\u001b[0;32m    522\u001b[0m         \u001b[39m\"\u001b[39m\u001b[39mSupplied \u001b[39m\u001b[39m'\u001b[39m\u001b[39margs\u001b[39m\u001b[39m'\u001b[39m\u001b[39m cannot be unpacked. Please supply `args`\u001b[39m\u001b[39m\"\u001b[39m\n\u001b[0;32m    523\u001b[0m         \u001b[39mf\u001b[39m\u001b[39m\"\u001b[39m\u001b[39m as a tuple (e.g. `args=(\u001b[39m\u001b[39m{\u001b[39;00margs\u001b[39m}\u001b[39;00m\u001b[39m,)`)\u001b[39m\u001b[39m\"\u001b[39m\n\u001b[0;32m    524\u001b[0m     )\n\u001b[0;32m    525\u001b[0m     \u001b[39mraise\u001b[39;00m \u001b[39mTypeError\u001b[39;00m(suggestion_tuple) \u001b[39mfrom\u001b[39;00m \u001b[39mexp\u001b[39;00m\n\u001b[1;32m--> 527\u001b[0m fun \u001b[39m=\u001b[39m \u001b[39mlambda\u001b[39;00m t, x, fun\u001b[39m=\u001b[39mfun: fun(t, x, \u001b[39m*\u001b[39;49margs)\n\u001b[0;32m    528\u001b[0m jac \u001b[39m=\u001b[39m options\u001b[39m.\u001b[39mget(\u001b[39m'\u001b[39m\u001b[39mjac\u001b[39m\u001b[39m'\u001b[39m)\n\u001b[0;32m    529\u001b[0m \u001b[39mif\u001b[39;00m callable(jac):\n",
      "\u001b[1;32mc:\\Users\\kiera\\Documents\\_Universidad\\adsorción_hidrógeno_verde\\Lumped-parameter-model-for-adsorbative-hydrogen\\lumped_paramater_model_revised.ipynb Cell 5\u001b[0m in \u001b[0;36madsorcion_hidrogeno\u001b[1;34m(t, y, c_s, c_p, c_w, m_s, m_w, M_H2, R, alpha, beta, epsilon, volumen, area, p_0, n_0, b, m_dot, h, h_f, T_f, charge)\u001b[0m\n\u001b[0;32m     <a href='vscode-notebook-cell:/c%3A/Users/kiera/Documents/_Universidad/adsorci%C3%B3n_hidr%C3%B3geno_verde/Lumped-parameter-model-for-adsorbative-hydrogen/lumped_paramater_model_revised.ipynb#W4sZmlsZQ%3D%3D?line=9'>10</a>\u001b[0m T \u001b[39m=\u001b[39m y[\u001b[39m1\u001b[39m]\n\u001b[0;32m     <a href='vscode-notebook-cell:/c%3A/Users/kiera/Documents/_Universidad/adsorci%C3%B3n_hidr%C3%B3geno_verde/Lumped-parameter-model-for-adsorbative-hydrogen/lumped_paramater_model_revised.ipynb#W4sZmlsZQ%3D%3D?line=11'>12</a>\u001b[0m \u001b[39m# Calcular Variables dependientes de las variables independientes\u001b[39;00m\n\u001b[0;32m     <a href='vscode-notebook-cell:/c%3A/Users/kiera/Documents/_Universidad/adsorci%C3%B3n_hidr%C3%B3geno_verde/Lumped-parameter-model-for-adsorbative-hydrogen/lumped_paramater_model_revised.ipynb#W4sZmlsZQ%3D%3D?line=12'>13</a>\u001b[0m \u001b[39m# Moles de hidrógeno adsorbido\u001b[39;00m\n\u001b[1;32m---> <a href='vscode-notebook-cell:/c%3A/Users/kiera/Documents/_Universidad/adsorci%C3%B3n_hidr%C3%B3geno_verde/Lumped-parameter-model-for-adsorbative-hydrogen/lumped_paramater_model_revised.ipynb#W4sZmlsZQ%3D%3D?line=13'>14</a>\u001b[0m n_a \u001b[39m=\u001b[39m n_0 \u001b[39m*\u001b[39m np\u001b[39m.\u001b[39mexp(\u001b[39m-\u001b[39m((R\u001b[39m*\u001b[39mT)\u001b[39m/\u001b[39m(alpha\u001b[39m+\u001b[39mbeta\u001b[39m*\u001b[39mT))\u001b[39m*\u001b[39m\u001b[39m*\u001b[39mb \u001b[39m*\u001b[39m np\u001b[39m.\u001b[39mlog(p_0\u001b[39m/\u001b[39mp)\u001b[39m*\u001b[39m\u001b[39m*\u001b[39mb)\n\u001b[0;32m     <a href='vscode-notebook-cell:/c%3A/Users/kiera/Documents/_Universidad/adsorci%C3%B3n_hidr%C3%B3geno_verde/Lumped-parameter-model-for-adsorbative-hydrogen/lumped_paramater_model_revised.ipynb#W4sZmlsZQ%3D%3D?line=15'>16</a>\u001b[0m \u001b[39m# Masa\u001b[39;00m\n\u001b[0;32m     <a href='vscode-notebook-cell:/c%3A/Users/kiera/Documents/_Universidad/adsorci%C3%B3n_hidr%C3%B3geno_verde/Lumped-parameter-model-for-adsorbative-hydrogen/lumped_paramater_model_revised.ipynb#W4sZmlsZQ%3D%3D?line=16'>17</a>\u001b[0m m_a \u001b[39m=\u001b[39m n_a\u001b[39m*\u001b[39mM_H2\u001b[39m*\u001b[39mm_s\n",
      "\u001b[1;31mUnboundLocalError\u001b[0m: local variable 'p' referenced before assignment"
     ]
    }
   ],
   "source": [
    "# PARAMETROS\n",
    "# Calores especificos\n",
    "c_s = 825 # Calor especifico del carbón activado (J kg-1 K-1)\n",
    "c_p = 10167 # Calor especifico del hidrogeno (J kg-1 K-1)\n",
    "c_w = 468 # Calor especifico paredes de acero (J kg-1 K-1)\n",
    "\n",
    "# K: Originalmente estaba dado en J, por eso el /1000\n",
    "# F: Sugerencia: ocupar unidades SI lo más posible\n",
    "\n",
    "# Masas\n",
    "m_s = 0.671 # masa carbón activado (kg)\n",
    "m_w = 3.714 # Masa paredes de acero (kg)\n",
    "M_H2 = 2.0159E-3 # Masa molar del hidregeno (kg mol-1)\n",
    "\n",
    "# Constantes \n",
    "R = 8.314 # J mol-1 K-1\n",
    "alpha = 3080 # Factor entalpico (J mol-1)\n",
    "beta = 18.9 # Factor entropico (J mol-1 K-1)\n",
    "epsilon_b = 0.49 \n",
    "b = 2\n",
    "\n",
    "# Dimensiones estanque\n",
    "V = 2.4946*1e-3 # Volumen de estanque (m^3)\n",
    "A_e = 0.1277 # Área superficial estanque m^2\n",
    "\n",
    "# Otros\n",
    "p_0 = 1470 * 1e6 # Presion de saturacion (Pa)\n",
    "n_0 = 71.6 # Cantidad limite de adsorcion (mol kg-1)\n",
    "\n",
    "\n",
    "# CONDICIONES DE BORDE\n",
    "p_i = np.array([0.033, 0.033, 0.033, 0.032, 0.049, 0.032])*1e6 #Pa\n",
    "T_i = np.array([281, 282, 280.2, 301.5, 302, 302.4]) #K \n",
    "T_f = np.array([282.5, 284.5, 282.2, 301.7, 302.5, 302.5]) #K\n",
    "h_f = np.array([36, 36, 36, 36, 36, 36]) # W m^-2 K^-1\n",
    "\n",
    "# Seleccionar los valores del test deseado\n",
    "p_i = p_i[0]\n",
    "T_i = T_i[0]\n",
    "T_f = T_f[0]\n",
    "h_f = h_f[0]\n",
    "\n",
    "# Número de moles adsorbido en t = 0\n",
    "n_a0 = n_0 * np.exp(- (R*T_i/(alpha + beta*T_i))**b * np.log(p_0/p_i)**b )\n",
    "# n_a0 = 1e-6\n",
    "\n",
    "print(\"---Condiciones iniciales---\")\n",
    "print(\"n_a0 = %.3f\" % n_a0)\n",
    "print(f'La presión incial es: {p_i}\\nLa temperatura incial es: {T_i}\\nLa temperatura final es: {T_f}\\nh_f es: {h_f}')\n",
    "print(\"---Fin CI---\\n\")\n",
    "\n",
    "\n",
    "# PARAMETROS EN CARGA/DESCARGA\n",
    "# Carga o descarga?\n",
    "charge = True\n",
    "\n",
    "# Por ahora solo se usara test No. 13\n",
    "t_0 =  0            # s\n",
    "t_f = 1042          # s\n",
    "t_range = np.linspace(t_0, t_f, 1000000)\n",
    "\n",
    "m_dot = 2.023e-5        # kg s-1\n",
    "# Aparentemente calor de \n",
    "h = 3986.8          # J/kg aparentemente mal en el paper\n",
    "\n",
    "# Tupla de parametros que se deben pasar a solve_ivp\n",
    "args = (c_s, c_p, c_w, m_s, m_w, M_H2, R, alpha, beta, epsilon_b, V, A_e, p_0, n_0, b, m_dot, h, h_f, T_f, charge)\n",
    "\n",
    "# En ingeniería química, sobre todo cuando hay reacciones o cambio de fases, se generan sistemas ultraestables\n",
    "# (ultrastiff) no conviene utilizar métodos explícitos. \n",
    "sol = solve_ivp(adsorcion_hidrogeno, (t_0, t_f), [n_a0, T_i, p_i], args=args, t_eval= t_range, method = 'BDF')"
   ]
  }
 ],
 "metadata": {
  "kernelspec": {
   "display_name": "Python 3",
   "language": "python",
   "name": "python3"
  },
  "language_info": {
   "codemirror_mode": {
    "name": "ipython",
    "version": 3
   },
   "file_extension": ".py",
   "mimetype": "text/x-python",
   "name": "python",
   "nbconvert_exporter": "python",
   "pygments_lexer": "ipython3",
   "version": "3.10.6"
  },
  "orig_nbformat": 4,
  "vscode": {
   "interpreter": {
    "hash": "620eb4ed2007402b8563cffe8a138559637e3ee9804a716022abebb97e63d62a"
   }
  }
 },
 "nbformat": 4,
 "nbformat_minor": 2
}
